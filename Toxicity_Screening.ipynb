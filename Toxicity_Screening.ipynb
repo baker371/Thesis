{
  "nbformat": 4,
  "nbformat_minor": 0,
  "metadata": {
    "colab": {
      "provenance": [],
      "collapsed_sections": [],
      "include_colab_link": true
    },
    "kernelspec": {
      "display_name": "Python 3",
      "name": "python3"
    },
    "language_info": {
      "name": "python"
    }
  },
  "cells": [
    {
      "cell_type": "markdown",
      "metadata": {
        "id": "view-in-github",
        "colab_type": "text"
      },
      "source": [
        "<a href=\"https://colab.research.google.com/github/baker371/Thesis/blob/main/Toxicity_Screening.ipynb\" target=\"_parent\"><img src=\"https://colab.research.google.com/assets/colab-badge.svg\" alt=\"Open In Colab\"/></a>"
      ]
    },
    {
      "cell_type": "code",
      "metadata": {
        "id": "d0hKUbd1sxvB",
        "colab": {
          "base_uri": "https://localhost:8080/"
        },
        "outputId": "207d810d-2e90-4c35-c194-962540f085b4"
      },
      "source": [
        "!pip install rdkit-pypi"
      ],
      "execution_count": null,
      "outputs": [
        {
          "output_type": "stream",
          "name": "stdout",
          "text": [
            "Collecting rdkit-pypi\n",
            "  Downloading rdkit_pypi-2021.9.2.1-cp37-cp37m-manylinux_2_17_x86_64.manylinux2014_x86_64.whl (20.6 MB)\n",
            "\u001b[K     |████████████████████████████████| 20.6 MB 5.7 MB/s \n",
            "\u001b[?25hRequirement already satisfied: numpy>=1.19 in /usr/local/lib/python3.7/dist-packages (from rdkit-pypi) (1.19.5)\n",
            "Installing collected packages: rdkit-pypi\n",
            "Successfully installed rdkit-pypi-2021.9.2.1\n"
          ]
        }
      ]
    },
    {
      "cell_type": "code",
      "metadata": {
        "id": "oRoEJKdjg3Ex"
      },
      "source": [
        "from keras.models import Sequential\n",
        "from keras.layers import Dense\n",
        "from sklearn.model_selection import train_test_split\n",
        "from sklearn.preprocessing import MinMaxScaler\n",
        "import matplotlib.pyplot as plt\n",
        "import pandas as pd\n",
        "import numpy as np\n",
        "import warnings\n",
        "import pickle\n",
        "\n",
        "from rdkit import Chem\n",
        "from rdkit.Chem import AllChem\n",
        "from rdkit.Chem import Descriptors\n",
        "from rdkit import RDConfig\n",
        "from rdkit.Chem.Draw import IPythonConsole\n",
        "from rdkit.Chem import Draw\n",
        "from rdkit.Chem import PandasTools as PandasTools\n",
        "from rdkit import DataStructs\n",
        "from rdkit.Chem.Subshape import SubshapeBuilder,SubshapeAligner,SubshapeObjects\n",
        "\n",
        "warnings.filterwarnings('ignore')"
      ],
      "execution_count": null,
      "outputs": []
    },
    {
      "cell_type": "code",
      "metadata": {
        "colab": {
          "base_uri": "https://localhost:8080/"
        },
        "id": "VAoQn2Iqfdqu",
        "outputId": "31e07390-b269-44ef-da7f-e750f5c3fabf"
      },
      "source": [
        "!git clone https://github.com/baker371/Drug-Discovery.git"
      ],
      "execution_count": null,
      "outputs": [
        {
          "output_type": "stream",
          "name": "stdout",
          "text": [
            "Cloning into 'Drug-Discovery'...\n",
            "remote: Enumerating objects: 184, done.\u001b[K\n",
            "remote: Counting objects: 100% (15/15), done.\u001b[K\n",
            "remote: Compressing objects: 100% (15/15), done.\u001b[K\n",
            "remote: Total 184 (delta 4), reused 0 (delta 0), pack-reused 169\u001b[K\n",
            "Receiving objects: 100% (184/184), 42.49 MiB | 4.07 MiB/s, done.\n",
            "Resolving deltas: 100% (53/53), done.\n"
          ]
        }
      ]
    },
    {
      "cell_type": "code",
      "metadata": {
        "colab": {
          "base_uri": "https://localhost:8080/"
        },
        "id": "v4NUZtb7flKN",
        "outputId": "a872f23f-fe5f-44ca-bfaa-749957d76a32"
      },
      "source": [
        "%cd /content/Drug-Discovery/data"
      ],
      "execution_count": null,
      "outputs": [
        {
          "output_type": "stream",
          "name": "stdout",
          "text": [
            "/content/Drug-Discovery/data\n"
          ]
        }
      ]
    },
    {
      "cell_type": "code",
      "metadata": {
        "colab": {
          "base_uri": "https://localhost:8080/",
          "height": 143
        },
        "id": "-hxt4TKrhm_K",
        "outputId": "43f80747-42e3-449d-fdf9-62285dbf7d22"
      },
      "source": [
        "tox = pd.read_csv('clintox.csv')\n",
        "tox.head(3)"
      ],
      "execution_count": null,
      "outputs": [
        {
          "output_type": "execute_result",
          "data": {
            "text/html": [
              "<div>\n",
              "<style scoped>\n",
              "    .dataframe tbody tr th:only-of-type {\n",
              "        vertical-align: middle;\n",
              "    }\n",
              "\n",
              "    .dataframe tbody tr th {\n",
              "        vertical-align: top;\n",
              "    }\n",
              "\n",
              "    .dataframe thead th {\n",
              "        text-align: right;\n",
              "    }\n",
              "</style>\n",
              "<table border=\"1\" class=\"dataframe\">\n",
              "  <thead>\n",
              "    <tr style=\"text-align: right;\">\n",
              "      <th></th>\n",
              "      <th>smiles</th>\n",
              "      <th>FDA_APPROVED</th>\n",
              "      <th>CT_TOX</th>\n",
              "    </tr>\n",
              "  </thead>\n",
              "  <tbody>\n",
              "    <tr>\n",
              "      <th>0</th>\n",
              "      <td>*C(=O)[C@H](CCCCNC(=O)OCCOC)NC(=O)OCCOC</td>\n",
              "      <td>1</td>\n",
              "      <td>0</td>\n",
              "    </tr>\n",
              "    <tr>\n",
              "      <th>1</th>\n",
              "      <td>[C@@H]1([C@@H]([C@@H]([C@H]([C@@H]([C@@H]1Cl)C...</td>\n",
              "      <td>1</td>\n",
              "      <td>0</td>\n",
              "    </tr>\n",
              "    <tr>\n",
              "      <th>2</th>\n",
              "      <td>[C@H]([C@@H]([C@@H](C(=O)[O-])O)O)([C@H](C(=O)...</td>\n",
              "      <td>1</td>\n",
              "      <td>0</td>\n",
              "    </tr>\n",
              "  </tbody>\n",
              "</table>\n",
              "</div>"
            ],
            "text/plain": [
              "                                              smiles  FDA_APPROVED  CT_TOX\n",
              "0            *C(=O)[C@H](CCCCNC(=O)OCCOC)NC(=O)OCCOC             1       0\n",
              "1  [C@@H]1([C@@H]([C@@H]([C@H]([C@@H]([C@@H]1Cl)C...             1       0\n",
              "2  [C@H]([C@@H]([C@@H](C(=O)[O-])O)O)([C@H](C(=O)...             1       0"
            ]
          },
          "metadata": {},
          "execution_count": 5
        }
      ]
    },
    {
      "cell_type": "markdown",
      "metadata": {
        "id": "y00Sl6cPF9Ht"
      },
      "source": [
        "#### Generating Molecular Fingerprints"
      ]
    },
    {
      "cell_type": "code",
      "metadata": {
        "colab": {
          "base_uri": "https://localhost:8080/",
          "height": 692
        },
        "id": "J5kodHDWFPAc",
        "outputId": "8acdf555-0599-423a-b314-8b2dfa0c5733"
      },
      "source": [
        "PandasTools.AddMoleculeColumnToFrame(tox,'smiles','mol')\n",
        "toxi = tox[tox['mol'].notna()]\n",
        "toxi['FP'] = toxi.apply(lambda x: AllChem.GetMorganFingerprintAsBitVect(x.mol, 2, 2048), axis=1)\n",
        "FP = [AllChem.GetMorganFingerprintAsBitVect(mol, 2, 2048) for mol in toxi.mol]\n",
        "df_FP = pd.DataFrame(np.array(FP)) \n",
        "df_FP.index = toxi.index\n",
        "dfo = pd.concat([toxi, df_FP], axis=1)\n",
        "dfo = dfo.drop('FP', 1)\n",
        "dfo.head(2)"
      ],
      "execution_count": null,
      "outputs": [
        {
          "output_type": "stream",
          "name": "stderr",
          "text": [
            "RDKit ERROR: [10:07:40] Explicit valence for atom # 0 N, 5, is greater than permitted\n",
            "RDKit ERROR: [10:07:41] Can't kekulize mol.  Unkekulized atoms: 9\n",
            "RDKit ERROR: \n",
            "RDKit ERROR: [10:07:41] Explicit valence for atom # 10 N, 4, is greater than permitted\n",
            "RDKit ERROR: [10:07:41] Explicit valence for atom # 10 N, 4, is greater than permitted\n",
            "RDKit ERROR: [10:07:41] Can't kekulize mol.  Unkekulized atoms: 4\n",
            "RDKit ERROR: \n",
            "RDKit ERROR: [10:07:41] Can't kekulize mol.  Unkekulized atoms: 4\n",
            "RDKit ERROR: \n"
          ]
        },
        {
          "output_type": "execute_result",
          "data": {
            "text/html": [
              "<div>\n",
              "<style scoped>\n",
              "    .dataframe tbody tr th:only-of-type {\n",
              "        vertical-align: middle;\n",
              "    }\n",
              "\n",
              "    .dataframe tbody tr th {\n",
              "        vertical-align: top;\n",
              "    }\n",
              "\n",
              "    .dataframe thead th {\n",
              "        text-align: right;\n",
              "    }\n",
              "</style>\n",
              "<table border=\"1\" class=\"dataframe\">\n",
              "  <thead>\n",
              "    <tr style=\"text-align: right;\">\n",
              "      <th></th>\n",
              "      <th>smiles</th>\n",
              "      <th>FDA_APPROVED</th>\n",
              "      <th>CT_TOX</th>\n",
              "      <th>mol</th>\n",
              "      <th>0</th>\n",
              "      <th>1</th>\n",
              "      <th>2</th>\n",
              "      <th>3</th>\n",
              "      <th>4</th>\n",
              "      <th>5</th>\n",
              "      <th>6</th>\n",
              "      <th>7</th>\n",
              "      <th>8</th>\n",
              "      <th>9</th>\n",
              "      <th>10</th>\n",
              "      <th>11</th>\n",
              "      <th>12</th>\n",
              "      <th>13</th>\n",
              "      <th>14</th>\n",
              "      <th>15</th>\n",
              "      <th>16</th>\n",
              "      <th>17</th>\n",
              "      <th>18</th>\n",
              "      <th>19</th>\n",
              "      <th>20</th>\n",
              "      <th>21</th>\n",
              "      <th>22</th>\n",
              "      <th>23</th>\n",
              "      <th>24</th>\n",
              "      <th>25</th>\n",
              "      <th>26</th>\n",
              "      <th>27</th>\n",
              "      <th>28</th>\n",
              "      <th>29</th>\n",
              "      <th>30</th>\n",
              "      <th>31</th>\n",
              "      <th>32</th>\n",
              "      <th>33</th>\n",
              "      <th>34</th>\n",
              "      <th>35</th>\n",
              "      <th>...</th>\n",
              "      <th>2008</th>\n",
              "      <th>2009</th>\n",
              "      <th>2010</th>\n",
              "      <th>2011</th>\n",
              "      <th>2012</th>\n",
              "      <th>2013</th>\n",
              "      <th>2014</th>\n",
              "      <th>2015</th>\n",
              "      <th>2016</th>\n",
              "      <th>2017</th>\n",
              "      <th>2018</th>\n",
              "      <th>2019</th>\n",
              "      <th>2020</th>\n",
              "      <th>2021</th>\n",
              "      <th>2022</th>\n",
              "      <th>2023</th>\n",
              "      <th>2024</th>\n",
              "      <th>2025</th>\n",
              "      <th>2026</th>\n",
              "      <th>2027</th>\n",
              "      <th>2028</th>\n",
              "      <th>2029</th>\n",
              "      <th>2030</th>\n",
              "      <th>2031</th>\n",
              "      <th>2032</th>\n",
              "      <th>2033</th>\n",
              "      <th>2034</th>\n",
              "      <th>2035</th>\n",
              "      <th>2036</th>\n",
              "      <th>2037</th>\n",
              "      <th>2038</th>\n",
              "      <th>2039</th>\n",
              "      <th>2040</th>\n",
              "      <th>2041</th>\n",
              "      <th>2042</th>\n",
              "      <th>2043</th>\n",
              "      <th>2044</th>\n",
              "      <th>2045</th>\n",
              "      <th>2046</th>\n",
              "      <th>2047</th>\n",
              "    </tr>\n",
              "  </thead>\n",
              "  <tbody>\n",
              "    <tr>\n",
              "      <th>0</th>\n",
              "      <td>*C(=O)[C@H](CCCCNC(=O)OCCOC)NC(=O)OCCOC</td>\n",
              "      <td>1</td>\n",
              "      <td>0</td>\n",
              "      <td><img data-content=\"rdkit/molecule\" src=\"data:image/png;base64,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\" alt=\"Mol\"/></td>\n",
              "      <td>0</td>\n",
              "      <td>1</td>\n",
              "      <td>0</td>\n",
              "      <td>0</td>\n",
              "      <td>0</td>\n",
              "      <td>0</td>\n",
              "      <td>0</td>\n",
              "      <td>0</td>\n",
              "      <td>0</td>\n",
              "      <td>0</td>\n",
              "      <td>0</td>\n",
              "      <td>0</td>\n",
              "      <td>0</td>\n",
              "      <td>1</td>\n",
              "      <td>0</td>\n",
              "      <td>0</td>\n",
              "      <td>0</td>\n",
              "      <td>0</td>\n",
              "      <td>0</td>\n",
              "      <td>0</td>\n",
              "      <td>0</td>\n",
              "      <td>0</td>\n",
              "      <td>0</td>\n",
              "      <td>0</td>\n",
              "      <td>0</td>\n",
              "      <td>0</td>\n",
              "      <td>0</td>\n",
              "      <td>0</td>\n",
              "      <td>0</td>\n",
              "      <td>0</td>\n",
              "      <td>0</td>\n",
              "      <td>0</td>\n",
              "      <td>0</td>\n",
              "      <td>0</td>\n",
              "      <td>0</td>\n",
              "      <td>0</td>\n",
              "      <td>...</td>\n",
              "      <td>0</td>\n",
              "      <td>0</td>\n",
              "      <td>0</td>\n",
              "      <td>0</td>\n",
              "      <td>0</td>\n",
              "      <td>0</td>\n",
              "      <td>0</td>\n",
              "      <td>0</td>\n",
              "      <td>0</td>\n",
              "      <td>0</td>\n",
              "      <td>0</td>\n",
              "      <td>0</td>\n",
              "      <td>1</td>\n",
              "      <td>0</td>\n",
              "      <td>0</td>\n",
              "      <td>0</td>\n",
              "      <td>0</td>\n",
              "      <td>0</td>\n",
              "      <td>0</td>\n",
              "      <td>0</td>\n",
              "      <td>0</td>\n",
              "      <td>0</td>\n",
              "      <td>0</td>\n",
              "      <td>0</td>\n",
              "      <td>0</td>\n",
              "      <td>0</td>\n",
              "      <td>0</td>\n",
              "      <td>0</td>\n",
              "      <td>0</td>\n",
              "      <td>0</td>\n",
              "      <td>0</td>\n",
              "      <td>0</td>\n",
              "      <td>0</td>\n",
              "      <td>0</td>\n",
              "      <td>0</td>\n",
              "      <td>0</td>\n",
              "      <td>0</td>\n",
              "      <td>0</td>\n",
              "      <td>0</td>\n",
              "      <td>0</td>\n",
              "    </tr>\n",
              "    <tr>\n",
              "      <th>1</th>\n",
              "      <td>[C@@H]1([C@@H]([C@@H]([C@H]([C@@H]([C@@H]1Cl)C...</td>\n",
              "      <td>1</td>\n",
              "      <td>0</td>\n",
              "      <td><img data-content=\"rdkit/molecule\" src=\"data:image/png;base64,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\" alt=\"Mol\"/></td>\n",
              "      <td>0</td>\n",
              "      <td>0</td>\n",
              "      <td>0</td>\n",
              "      <td>0</td>\n",
              "      <td>0</td>\n",
              "      <td>0</td>\n",
              "      <td>0</td>\n",
              "      <td>0</td>\n",
              "      <td>0</td>\n",
              "      <td>0</td>\n",
              "      <td>0</td>\n",
              "      <td>0</td>\n",
              "      <td>0</td>\n",
              "      <td>0</td>\n",
              "      <td>0</td>\n",
              "      <td>0</td>\n",
              "      <td>0</td>\n",
              "      <td>0</td>\n",
              "      <td>0</td>\n",
              "      <td>0</td>\n",
              "      <td>0</td>\n",
              "      <td>0</td>\n",
              "      <td>0</td>\n",
              "      <td>0</td>\n",
              "      <td>0</td>\n",
              "      <td>0</td>\n",
              "      <td>0</td>\n",
              "      <td>0</td>\n",
              "      <td>0</td>\n",
              "      <td>0</td>\n",
              "      <td>0</td>\n",
              "      <td>0</td>\n",
              "      <td>0</td>\n",
              "      <td>0</td>\n",
              "      <td>0</td>\n",
              "      <td>0</td>\n",
              "      <td>...</td>\n",
              "      <td>0</td>\n",
              "      <td>0</td>\n",
              "      <td>0</td>\n",
              "      <td>0</td>\n",
              "      <td>0</td>\n",
              "      <td>0</td>\n",
              "      <td>0</td>\n",
              "      <td>0</td>\n",
              "      <td>0</td>\n",
              "      <td>0</td>\n",
              "      <td>0</td>\n",
              "      <td>0</td>\n",
              "      <td>0</td>\n",
              "      <td>0</td>\n",
              "      <td>0</td>\n",
              "      <td>0</td>\n",
              "      <td>0</td>\n",
              "      <td>0</td>\n",
              "      <td>0</td>\n",
              "      <td>0</td>\n",
              "      <td>0</td>\n",
              "      <td>0</td>\n",
              "      <td>0</td>\n",
              "      <td>0</td>\n",
              "      <td>0</td>\n",
              "      <td>0</td>\n",
              "      <td>0</td>\n",
              "      <td>0</td>\n",
              "      <td>0</td>\n",
              "      <td>0</td>\n",
              "      <td>0</td>\n",
              "      <td>0</td>\n",
              "      <td>0</td>\n",
              "      <td>0</td>\n",
              "      <td>0</td>\n",
              "      <td>0</td>\n",
              "      <td>0</td>\n",
              "      <td>0</td>\n",
              "      <td>0</td>\n",
              "      <td>0</td>\n",
              "    </tr>\n",
              "  </tbody>\n",
              "</table>\n",
              "<p>2 rows × 2052 columns</p>\n",
              "</div>"
            ],
            "text/plain": [
              "                                              smiles  FDA_APPROVED  ...  2046 2047\n",
              "0            *C(=O)[C@H](CCCCNC(=O)OCCOC)NC(=O)OCCOC             1  ...     0    0\n",
              "1  [C@@H]1([C@@H]([C@@H]([C@H]([C@@H]([C@@H]1Cl)C...             1  ...     0    0\n",
              "\n",
              "[2 rows x 2052 columns]"
            ]
          },
          "metadata": {},
          "execution_count": 6
        }
      ]
    },
    {
      "cell_type": "markdown",
      "metadata": {
        "id": "t5om_xXyM4NZ"
      },
      "source": [
        "#### Getting variable\n",
        "\n",
        "---\n",
        "\n"
      ]
    },
    {
      "cell_type": "code",
      "metadata": {
        "id": "-h25Xf6yLlA-",
        "colab": {
          "base_uri": "https://localhost:8080/"
        },
        "outputId": "38d2e906-b402-4170-bbe7-26d6ace59553"
      },
      "source": [
        "# Dependent variable (if a molecule is toxic or not) - Target\n",
        "ydf = dfo[['CT_TOX']]\n",
        "dt  = ydf.values\n",
        "Y   = dt[:,0]\n",
        "Y"
      ],
      "execution_count": null,
      "outputs": [
        {
          "output_type": "execute_result",
          "data": {
            "text/plain": [
              "array([0, 0, 0, ..., 0, 0, 0])"
            ]
          },
          "metadata": {},
          "execution_count": 7
        }
      ]
    },
    {
      "cell_type": "code",
      "metadata": {
        "colab": {
          "base_uri": "https://localhost:8080/"
        },
        "id": "hYJCVSOJsKJC",
        "outputId": "545061eb-5de5-4313-d75b-79728071f5ad"
      },
      "source": [
        "dfo.drop(['smiles', 'mol','CT_TOX'], axis=1, inplace=True)\n",
        "dfo.shape"
      ],
      "execution_count": null,
      "outputs": [
        {
          "output_type": "execute_result",
          "data": {
            "text/plain": [
              "(1478, 2049)"
            ]
          },
          "metadata": {},
          "execution_count": 8
        }
      ]
    },
    {
      "cell_type": "code",
      "metadata": {
        "id": "T4q1rpAZMjzw",
        "colab": {
          "base_uri": "https://localhost:8080/"
        },
        "outputId": "1b1b2e99-94de-4185-9404-9798499f6db3"
      },
      "source": [
        "# Independent variables (Features)\n",
        "dx = dfo.values\n",
        "X = dx[:,0:2049]\n",
        "X"
      ],
      "execution_count": null,
      "outputs": [
        {
          "output_type": "execute_result",
          "data": {
            "text/plain": [
              "array([[1, 0, 1, ..., 0, 0, 0],\n",
              "       [1, 0, 0, ..., 0, 0, 0],\n",
              "       [1, 0, 1, ..., 0, 0, 0],\n",
              "       ...,\n",
              "       [1, 0, 0, ..., 0, 0, 0],\n",
              "       [1, 0, 0, ..., 0, 0, 0],\n",
              "       [1, 0, 0, ..., 0, 0, 0]])"
            ]
          },
          "metadata": {},
          "execution_count": 9
        }
      ]
    },
    {
      "cell_type": "code",
      "metadata": {
        "colab": {
          "base_uri": "https://localhost:8080/"
        },
        "id": "tKrhfn1HPknZ",
        "outputId": "f41950fd-6453-4335-a8af-07d738ee6c8c"
      },
      "source": [
        "# Split the data into 80% training and 20% (testing (10%), validation(10%))\n",
        "X_train, X_val_and_test, Y_train, Y_val_and_test = train_test_split(X, Y, test_size = 0.2)\n",
        "X_val, X_test, Y_val, Y_test = train_test_split(X_val_and_test, Y_val_and_test, test_size=0.5)\n",
        "print(X_train.shape, X_val.shape, X_test.shape, Y_train.shape, Y_val.shape, Y_test.shape)"
      ],
      "execution_count": null,
      "outputs": [
        {
          "output_type": "stream",
          "name": "stdout",
          "text": [
            "(1182, 2049) (148, 2049) (148, 2049) (1182,) (148,) (148,)\n"
          ]
        }
      ]
    },
    {
      "cell_type": "markdown",
      "metadata": {
        "id": "6RBxww2wVYWd"
      },
      "source": [
        "#### Building the model and architecture of the deep neural network"
      ]
    },
    {
      "cell_type": "code",
      "metadata": {
        "id": "6qfYlfuFEyab"
      },
      "source": [
        "model = Sequential() # Initialising the DNN\n",
        "model.add(Dense(units=32, activation='relu', input_dim=2049))\n",
        "model.add(Dense(units=32, activation='relu'))\n",
        "model.add(Dense(units=32, activation='relu'))\n",
        "model.add(Dense(units=1, activation='sigmoid'))"
      ],
      "execution_count": null,
      "outputs": []
    },
    {
      "cell_type": "code",
      "metadata": {
        "id": "KOTeyS4_HDCl"
      },
      "source": [
        "# Loss functio  to measue how well the model performed on training,then tries to improve it using the optimizer\n",
        "\n",
        "model.compile(optimizer='sgd',\n",
        "              loss='binary_crossentropy',\n",
        "              metrics=['accuracy'])"
      ],
      "execution_count": null,
      "outputs": []
    },
    {
      "cell_type": "code",
      "metadata": {
        "colab": {
          "base_uri": "https://localhost:8080/"
        },
        "id": "UpYmw4baHFTg",
        "outputId": "f53845e2-83eb-4604-da48-2d3efa10b375"
      },
      "source": [
        "hist = model.fit(\n",
        "    X_train,Y_train,\n",
        "    batch_size=32,epochs=200,\n",
        "    validation_data=(X_val, Y_val)\n",
        ")"
      ],
      "execution_count": null,
      "outputs": [
        {
          "output_type": "stream",
          "name": "stdout",
          "text": [
            "Epoch 1/200\n",
            "37/37 [==============================] - 1s 9ms/step - loss: 0.6465 - accuracy: 0.7733 - val_loss: 0.5815 - val_accuracy: 0.9189\n",
            "Epoch 2/200\n",
            "37/37 [==============================] - 0s 4ms/step - loss: 0.5115 - accuracy: 0.9213 - val_loss: 0.4592 - val_accuracy: 0.9189\n",
            "Epoch 3/200\n",
            "37/37 [==============================] - 0s 3ms/step - loss: 0.3941 - accuracy: 0.9213 - val_loss: 0.3622 - val_accuracy: 0.9189\n",
            "Epoch 4/200\n",
            "37/37 [==============================] - 0s 4ms/step - loss: 0.3169 - accuracy: 0.9213 - val_loss: 0.3130 - val_accuracy: 0.9189\n",
            "Epoch 5/200\n",
            "37/37 [==============================] - 0s 5ms/step - loss: 0.2806 - accuracy: 0.9213 - val_loss: 0.2925 - val_accuracy: 0.9189\n",
            "Epoch 6/200\n",
            "37/37 [==============================] - 0s 4ms/step - loss: 0.2650 - accuracy: 0.9213 - val_loss: 0.2841 - val_accuracy: 0.9189\n",
            "Epoch 7/200\n",
            "37/37 [==============================] - 0s 4ms/step - loss: 0.2565 - accuracy: 0.9213 - val_loss: 0.2780 - val_accuracy: 0.9189\n",
            "Epoch 8/200\n",
            "37/37 [==============================] - 0s 4ms/step - loss: 0.2496 - accuracy: 0.9213 - val_loss: 0.2725 - val_accuracy: 0.9189\n",
            "Epoch 9/200\n",
            "37/37 [==============================] - 0s 4ms/step - loss: 0.2433 - accuracy: 0.9213 - val_loss: 0.2665 - val_accuracy: 0.9189\n",
            "Epoch 10/200\n",
            "37/37 [==============================] - 0s 4ms/step - loss: 0.2371 - accuracy: 0.9213 - val_loss: 0.2603 - val_accuracy: 0.9189\n",
            "Epoch 11/200\n",
            "37/37 [==============================] - 0s 4ms/step - loss: 0.2304 - accuracy: 0.9213 - val_loss: 0.2539 - val_accuracy: 0.9189\n",
            "Epoch 12/200\n",
            "37/37 [==============================] - 0s 3ms/step - loss: 0.2233 - accuracy: 0.9213 - val_loss: 0.2471 - val_accuracy: 0.9189\n",
            "Epoch 13/200\n",
            "37/37 [==============================] - 0s 3ms/step - loss: 0.2159 - accuracy: 0.9213 - val_loss: 0.2398 - val_accuracy: 0.9189\n",
            "Epoch 14/200\n",
            "37/37 [==============================] - 0s 4ms/step - loss: 0.2087 - accuracy: 0.9213 - val_loss: 0.2330 - val_accuracy: 0.9189\n",
            "Epoch 15/200\n",
            "37/37 [==============================] - 0s 4ms/step - loss: 0.2011 - accuracy: 0.9213 - val_loss: 0.2260 - val_accuracy: 0.9189\n",
            "Epoch 16/200\n",
            "37/37 [==============================] - 0s 4ms/step - loss: 0.1937 - accuracy: 0.9213 - val_loss: 0.2198 - val_accuracy: 0.9189\n",
            "Epoch 17/200\n",
            "37/37 [==============================] - 0s 3ms/step - loss: 0.1863 - accuracy: 0.9213 - val_loss: 0.2133 - val_accuracy: 0.9189\n",
            "Epoch 18/200\n",
            "37/37 [==============================] - 0s 4ms/step - loss: 0.1785 - accuracy: 0.9213 - val_loss: 0.2061 - val_accuracy: 0.9189\n",
            "Epoch 19/200\n",
            "37/37 [==============================] - 0s 4ms/step - loss: 0.1708 - accuracy: 0.9213 - val_loss: 0.1985 - val_accuracy: 0.9189\n",
            "Epoch 20/200\n",
            "37/37 [==============================] - 0s 3ms/step - loss: 0.1630 - accuracy: 0.9213 - val_loss: 0.1918 - val_accuracy: 0.9189\n",
            "Epoch 21/200\n",
            "37/37 [==============================] - 0s 4ms/step - loss: 0.1552 - accuracy: 0.9222 - val_loss: 0.1846 - val_accuracy: 0.9189\n",
            "Epoch 22/200\n",
            "37/37 [==============================] - 0s 4ms/step - loss: 0.1474 - accuracy: 0.9230 - val_loss: 0.1778 - val_accuracy: 0.9189\n",
            "Epoch 23/200\n",
            "37/37 [==============================] - 0s 4ms/step - loss: 0.1398 - accuracy: 0.9247 - val_loss: 0.1707 - val_accuracy: 0.9189\n",
            "Epoch 24/200\n",
            "37/37 [==============================] - 0s 4ms/step - loss: 0.1325 - accuracy: 0.9289 - val_loss: 0.1646 - val_accuracy: 0.9189\n",
            "Epoch 25/200\n",
            "37/37 [==============================] - 0s 4ms/step - loss: 0.1255 - accuracy: 0.9340 - val_loss: 0.1574 - val_accuracy: 0.9257\n",
            "Epoch 26/200\n",
            "37/37 [==============================] - 0s 4ms/step - loss: 0.1184 - accuracy: 0.9408 - val_loss: 0.1520 - val_accuracy: 0.9257\n",
            "Epoch 27/200\n",
            "37/37 [==============================] - 0s 4ms/step - loss: 0.1115 - accuracy: 0.9450 - val_loss: 0.1449 - val_accuracy: 0.9324\n",
            "Epoch 28/200\n",
            "37/37 [==============================] - 0s 4ms/step - loss: 0.1050 - accuracy: 0.9518 - val_loss: 0.1400 - val_accuracy: 0.9459\n",
            "Epoch 29/200\n",
            "37/37 [==============================] - 0s 3ms/step - loss: 0.0987 - accuracy: 0.9602 - val_loss: 0.1352 - val_accuracy: 0.9459\n",
            "Epoch 30/200\n",
            "37/37 [==============================] - 0s 4ms/step - loss: 0.0926 - accuracy: 0.9653 - val_loss: 0.1301 - val_accuracy: 0.9595\n",
            "Epoch 31/200\n",
            "37/37 [==============================] - 0s 3ms/step - loss: 0.0867 - accuracy: 0.9704 - val_loss: 0.1250 - val_accuracy: 0.9595\n",
            "Epoch 32/200\n",
            "37/37 [==============================] - 0s 4ms/step - loss: 0.0810 - accuracy: 0.9729 - val_loss: 0.1201 - val_accuracy: 0.9595\n",
            "Epoch 33/200\n",
            "37/37 [==============================] - 0s 4ms/step - loss: 0.0758 - accuracy: 0.9746 - val_loss: 0.1167 - val_accuracy: 0.9595\n",
            "Epoch 34/200\n",
            "37/37 [==============================] - 0s 4ms/step - loss: 0.0706 - accuracy: 0.9797 - val_loss: 0.1120 - val_accuracy: 0.9595\n",
            "Epoch 35/200\n",
            "37/37 [==============================] - 0s 4ms/step - loss: 0.0658 - accuracy: 0.9831 - val_loss: 0.1090 - val_accuracy: 0.9595\n",
            "Epoch 36/200\n",
            "37/37 [==============================] - 0s 4ms/step - loss: 0.0613 - accuracy: 0.9856 - val_loss: 0.1057 - val_accuracy: 0.9595\n",
            "Epoch 37/200\n",
            "37/37 [==============================] - 0s 4ms/step - loss: 0.0570 - accuracy: 0.9865 - val_loss: 0.1026 - val_accuracy: 0.9662\n",
            "Epoch 38/200\n",
            "37/37 [==============================] - 0s 4ms/step - loss: 0.0533 - accuracy: 0.9873 - val_loss: 0.1000 - val_accuracy: 0.9730\n",
            "Epoch 39/200\n",
            "37/37 [==============================] - 0s 4ms/step - loss: 0.0496 - accuracy: 0.9882 - val_loss: 0.0980 - val_accuracy: 0.9730\n",
            "Epoch 40/200\n",
            "37/37 [==============================] - 0s 4ms/step - loss: 0.0463 - accuracy: 0.9890 - val_loss: 0.0956 - val_accuracy: 0.9797\n",
            "Epoch 41/200\n",
            "37/37 [==============================] - 0s 4ms/step - loss: 0.0431 - accuracy: 0.9907 - val_loss: 0.0955 - val_accuracy: 0.9797\n",
            "Epoch 42/200\n",
            "37/37 [==============================] - 0s 4ms/step - loss: 0.0404 - accuracy: 0.9898 - val_loss: 0.0921 - val_accuracy: 0.9865\n",
            "Epoch 43/200\n",
            "37/37 [==============================] - 0s 4ms/step - loss: 0.0378 - accuracy: 0.9907 - val_loss: 0.0916 - val_accuracy: 0.9865\n",
            "Epoch 44/200\n",
            "37/37 [==============================] - 0s 4ms/step - loss: 0.0355 - accuracy: 0.9907 - val_loss: 0.0890 - val_accuracy: 0.9865\n",
            "Epoch 45/200\n",
            "37/37 [==============================] - 0s 4ms/step - loss: 0.0332 - accuracy: 0.9924 - val_loss: 0.0894 - val_accuracy: 0.9865\n",
            "Epoch 46/200\n",
            "37/37 [==============================] - 0s 4ms/step - loss: 0.0312 - accuracy: 0.9924 - val_loss: 0.0868 - val_accuracy: 0.9865\n",
            "Epoch 47/200\n",
            "37/37 [==============================] - 0s 4ms/step - loss: 0.0294 - accuracy: 0.9932 - val_loss: 0.0862 - val_accuracy: 0.9865\n",
            "Epoch 48/200\n",
            "37/37 [==============================] - 0s 4ms/step - loss: 0.0275 - accuracy: 0.9941 - val_loss: 0.0869 - val_accuracy: 0.9865\n",
            "Epoch 49/200\n",
            "37/37 [==============================] - 0s 4ms/step - loss: 0.0260 - accuracy: 0.9941 - val_loss: 0.0862 - val_accuracy: 0.9865\n",
            "Epoch 50/200\n",
            "37/37 [==============================] - 0s 4ms/step - loss: 0.0245 - accuracy: 0.9949 - val_loss: 0.0834 - val_accuracy: 0.9865\n",
            "Epoch 51/200\n",
            "37/37 [==============================] - 0s 4ms/step - loss: 0.0232 - accuracy: 0.9975 - val_loss: 0.0848 - val_accuracy: 0.9865\n",
            "Epoch 52/200\n",
            "37/37 [==============================] - 0s 4ms/step - loss: 0.0220 - accuracy: 0.9975 - val_loss: 0.0847 - val_accuracy: 0.9865\n",
            "Epoch 53/200\n",
            "37/37 [==============================] - 0s 4ms/step - loss: 0.0208 - accuracy: 0.9975 - val_loss: 0.0825 - val_accuracy: 0.9865\n",
            "Epoch 54/200\n",
            "37/37 [==============================] - 0s 4ms/step - loss: 0.0199 - accuracy: 0.9975 - val_loss: 0.0820 - val_accuracy: 0.9865\n",
            "Epoch 55/200\n",
            "37/37 [==============================] - 0s 4ms/step - loss: 0.0188 - accuracy: 0.9975 - val_loss: 0.0823 - val_accuracy: 0.9865\n",
            "Epoch 56/200\n",
            "37/37 [==============================] - 0s 4ms/step - loss: 0.0179 - accuracy: 0.9975 - val_loss: 0.0827 - val_accuracy: 0.9865\n",
            "Epoch 57/200\n",
            "37/37 [==============================] - 0s 4ms/step - loss: 0.0171 - accuracy: 0.9975 - val_loss: 0.0818 - val_accuracy: 0.9865\n",
            "Epoch 58/200\n",
            "37/37 [==============================] - 0s 4ms/step - loss: 0.0163 - accuracy: 0.9975 - val_loss: 0.0813 - val_accuracy: 0.9865\n",
            "Epoch 59/200\n",
            "37/37 [==============================] - 0s 4ms/step - loss: 0.0156 - accuracy: 0.9975 - val_loss: 0.0808 - val_accuracy: 0.9865\n",
            "Epoch 60/200\n",
            "37/37 [==============================] - 0s 4ms/step - loss: 0.0149 - accuracy: 0.9983 - val_loss: 0.0814 - val_accuracy: 0.9865\n",
            "Epoch 61/200\n",
            "37/37 [==============================] - 0s 4ms/step - loss: 0.0143 - accuracy: 0.9983 - val_loss: 0.0818 - val_accuracy: 0.9865\n",
            "Epoch 62/200\n",
            "37/37 [==============================] - 0s 4ms/step - loss: 0.0138 - accuracy: 0.9983 - val_loss: 0.0821 - val_accuracy: 0.9865\n",
            "Epoch 63/200\n",
            "37/37 [==============================] - 0s 3ms/step - loss: 0.0132 - accuracy: 0.9983 - val_loss: 0.0811 - val_accuracy: 0.9865\n",
            "Epoch 64/200\n",
            "37/37 [==============================] - 0s 4ms/step - loss: 0.0127 - accuracy: 0.9983 - val_loss: 0.0806 - val_accuracy: 0.9865\n",
            "Epoch 65/200\n",
            "37/37 [==============================] - 0s 4ms/step - loss: 0.0122 - accuracy: 0.9983 - val_loss: 0.0809 - val_accuracy: 0.9865\n",
            "Epoch 66/200\n",
            "37/37 [==============================] - 0s 4ms/step - loss: 0.0118 - accuracy: 0.9983 - val_loss: 0.0793 - val_accuracy: 0.9865\n",
            "Epoch 67/200\n",
            "37/37 [==============================] - 0s 5ms/step - loss: 0.0114 - accuracy: 0.9983 - val_loss: 0.0813 - val_accuracy: 0.9865\n",
            "Epoch 68/200\n",
            "37/37 [==============================] - 0s 4ms/step - loss: 0.0110 - accuracy: 0.9983 - val_loss: 0.0816 - val_accuracy: 0.9865\n",
            "Epoch 69/200\n",
            "37/37 [==============================] - 0s 3ms/step - loss: 0.0106 - accuracy: 0.9983 - val_loss: 0.0789 - val_accuracy: 0.9865\n",
            "Epoch 70/200\n",
            "37/37 [==============================] - 0s 4ms/step - loss: 0.0103 - accuracy: 0.9983 - val_loss: 0.0812 - val_accuracy: 0.9865\n",
            "Epoch 71/200\n",
            "37/37 [==============================] - 0s 4ms/step - loss: 0.0101 - accuracy: 0.9983 - val_loss: 0.0801 - val_accuracy: 0.9865\n",
            "Epoch 72/200\n",
            "37/37 [==============================] - 0s 3ms/step - loss: 0.0097 - accuracy: 0.9983 - val_loss: 0.0800 - val_accuracy: 0.9865\n",
            "Epoch 73/200\n",
            "37/37 [==============================] - 0s 4ms/step - loss: 0.0095 - accuracy: 0.9992 - val_loss: 0.0814 - val_accuracy: 0.9865\n",
            "Epoch 74/200\n",
            "37/37 [==============================] - 0s 4ms/step - loss: 0.0092 - accuracy: 0.9992 - val_loss: 0.0807 - val_accuracy: 0.9865\n",
            "Epoch 75/200\n",
            "37/37 [==============================] - 0s 3ms/step - loss: 0.0089 - accuracy: 0.9992 - val_loss: 0.0812 - val_accuracy: 0.9865\n",
            "Epoch 76/200\n",
            "37/37 [==============================] - 0s 3ms/step - loss: 0.0086 - accuracy: 0.9992 - val_loss: 0.0801 - val_accuracy: 0.9865\n",
            "Epoch 77/200\n",
            "37/37 [==============================] - 0s 4ms/step - loss: 0.0085 - accuracy: 0.9992 - val_loss: 0.0797 - val_accuracy: 0.9865\n",
            "Epoch 78/200\n",
            "37/37 [==============================] - 0s 4ms/step - loss: 0.0082 - accuracy: 0.9992 - val_loss: 0.0823 - val_accuracy: 0.9865\n",
            "Epoch 79/200\n",
            "37/37 [==============================] - 0s 4ms/step - loss: 0.0079 - accuracy: 0.9992 - val_loss: 0.0817 - val_accuracy: 0.9865\n",
            "Epoch 80/200\n",
            "37/37 [==============================] - 0s 4ms/step - loss: 0.0078 - accuracy: 0.9992 - val_loss: 0.0822 - val_accuracy: 0.9865\n",
            "Epoch 81/200\n",
            "37/37 [==============================] - 0s 3ms/step - loss: 0.0077 - accuracy: 0.9992 - val_loss: 0.0807 - val_accuracy: 0.9865\n",
            "Epoch 82/200\n",
            "37/37 [==============================] - 0s 4ms/step - loss: 0.0075 - accuracy: 0.9992 - val_loss: 0.0822 - val_accuracy: 0.9865\n",
            "Epoch 83/200\n",
            "37/37 [==============================] - 0s 4ms/step - loss: 0.0073 - accuracy: 0.9992 - val_loss: 0.0826 - val_accuracy: 0.9865\n",
            "Epoch 84/200\n",
            "37/37 [==============================] - 0s 4ms/step - loss: 0.0071 - accuracy: 0.9992 - val_loss: 0.0824 - val_accuracy: 0.9865\n",
            "Epoch 85/200\n",
            "37/37 [==============================] - 0s 4ms/step - loss: 0.0070 - accuracy: 0.9992 - val_loss: 0.0819 - val_accuracy: 0.9865\n",
            "Epoch 86/200\n",
            "37/37 [==============================] - 0s 4ms/step - loss: 0.0069 - accuracy: 0.9992 - val_loss: 0.0817 - val_accuracy: 0.9865\n",
            "Epoch 87/200\n",
            "37/37 [==============================] - 0s 4ms/step - loss: 0.0067 - accuracy: 0.9992 - val_loss: 0.0812 - val_accuracy: 0.9865\n",
            "Epoch 88/200\n",
            "37/37 [==============================] - 0s 4ms/step - loss: 0.0066 - accuracy: 0.9992 - val_loss: 0.0809 - val_accuracy: 0.9865\n",
            "Epoch 89/200\n",
            "37/37 [==============================] - 0s 3ms/step - loss: 0.0064 - accuracy: 0.9992 - val_loss: 0.0799 - val_accuracy: 0.9865\n",
            "Epoch 90/200\n",
            "37/37 [==============================] - 0s 4ms/step - loss: 0.0064 - accuracy: 0.9992 - val_loss: 0.0812 - val_accuracy: 0.9865\n",
            "Epoch 91/200\n",
            "37/37 [==============================] - 0s 3ms/step - loss: 0.0062 - accuracy: 0.9992 - val_loss: 0.0819 - val_accuracy: 0.9865\n",
            "Epoch 92/200\n",
            "37/37 [==============================] - 0s 4ms/step - loss: 0.0061 - accuracy: 0.9983 - val_loss: 0.0829 - val_accuracy: 0.9865\n",
            "Epoch 93/200\n",
            "37/37 [==============================] - 0s 3ms/step - loss: 0.0060 - accuracy: 0.9992 - val_loss: 0.0815 - val_accuracy: 0.9865\n",
            "Epoch 94/200\n",
            "37/37 [==============================] - 0s 4ms/step - loss: 0.0059 - accuracy: 0.9992 - val_loss: 0.0816 - val_accuracy: 0.9865\n",
            "Epoch 95/200\n",
            "37/37 [==============================] - 0s 4ms/step - loss: 0.0058 - accuracy: 0.9992 - val_loss: 0.0818 - val_accuracy: 0.9865\n",
            "Epoch 96/200\n",
            "37/37 [==============================] - 0s 4ms/step - loss: 0.0057 - accuracy: 0.9983 - val_loss: 0.0825 - val_accuracy: 0.9865\n",
            "Epoch 97/200\n",
            "37/37 [==============================] - 0s 4ms/step - loss: 0.0056 - accuracy: 0.9992 - val_loss: 0.0830 - val_accuracy: 0.9865\n",
            "Epoch 98/200\n",
            "37/37 [==============================] - 0s 4ms/step - loss: 0.0055 - accuracy: 0.9992 - val_loss: 0.0806 - val_accuracy: 0.9865\n",
            "Epoch 99/200\n",
            "37/37 [==============================] - 0s 4ms/step - loss: 0.0054 - accuracy: 0.9992 - val_loss: 0.0833 - val_accuracy: 0.9865\n",
            "Epoch 100/200\n",
            "37/37 [==============================] - 0s 4ms/step - loss: 0.0053 - accuracy: 0.9992 - val_loss: 0.0831 - val_accuracy: 0.9865\n",
            "Epoch 101/200\n",
            "37/37 [==============================] - 0s 4ms/step - loss: 0.0053 - accuracy: 0.9992 - val_loss: 0.0834 - val_accuracy: 0.9865\n",
            "Epoch 102/200\n",
            "37/37 [==============================] - 0s 4ms/step - loss: 0.0052 - accuracy: 0.9992 - val_loss: 0.0827 - val_accuracy: 0.9865\n",
            "Epoch 103/200\n",
            "37/37 [==============================] - 0s 4ms/step - loss: 0.0050 - accuracy: 0.9992 - val_loss: 0.0814 - val_accuracy: 0.9865\n",
            "Epoch 104/200\n",
            "37/37 [==============================] - 0s 4ms/step - loss: 0.0050 - accuracy: 0.9992 - val_loss: 0.0812 - val_accuracy: 0.9865\n",
            "Epoch 105/200\n",
            "37/37 [==============================] - 0s 4ms/step - loss: 0.0050 - accuracy: 0.9992 - val_loss: 0.0818 - val_accuracy: 0.9865\n",
            "Epoch 106/200\n",
            "37/37 [==============================] - 0s 4ms/step - loss: 0.0048 - accuracy: 0.9983 - val_loss: 0.0838 - val_accuracy: 0.9865\n",
            "Epoch 107/200\n",
            "37/37 [==============================] - 0s 4ms/step - loss: 0.0048 - accuracy: 0.9992 - val_loss: 0.0841 - val_accuracy: 0.9865\n",
            "Epoch 108/200\n",
            "37/37 [==============================] - 0s 4ms/step - loss: 0.0047 - accuracy: 0.9992 - val_loss: 0.0842 - val_accuracy: 0.9865\n",
            "Epoch 109/200\n",
            "37/37 [==============================] - 0s 3ms/step - loss: 0.0048 - accuracy: 0.9992 - val_loss: 0.0839 - val_accuracy: 0.9865\n",
            "Epoch 110/200\n",
            "37/37 [==============================] - 0s 4ms/step - loss: 0.0047 - accuracy: 0.9992 - val_loss: 0.0825 - val_accuracy: 0.9865\n",
            "Epoch 111/200\n",
            "37/37 [==============================] - 0s 4ms/step - loss: 0.0046 - accuracy: 0.9992 - val_loss: 0.0827 - val_accuracy: 0.9865\n",
            "Epoch 112/200\n",
            "37/37 [==============================] - 0s 4ms/step - loss: 0.0045 - accuracy: 0.9992 - val_loss: 0.0825 - val_accuracy: 0.9865\n",
            "Epoch 113/200\n",
            "37/37 [==============================] - 0s 4ms/step - loss: 0.0045 - accuracy: 0.9983 - val_loss: 0.0837 - val_accuracy: 0.9865\n",
            "Epoch 114/200\n",
            "37/37 [==============================] - 0s 3ms/step - loss: 0.0044 - accuracy: 0.9992 - val_loss: 0.0823 - val_accuracy: 0.9865\n",
            "Epoch 115/200\n",
            "37/37 [==============================] - 0s 5ms/step - loss: 0.0041 - accuracy: 0.9992 - val_loss: 0.0833 - val_accuracy: 0.9865\n",
            "Epoch 116/200\n",
            "37/37 [==============================] - 0s 4ms/step - loss: 0.0043 - accuracy: 0.9992 - val_loss: 0.0824 - val_accuracy: 0.9865\n",
            "Epoch 117/200\n",
            "37/37 [==============================] - 0s 4ms/step - loss: 0.0043 - accuracy: 0.9983 - val_loss: 0.0838 - val_accuracy: 0.9865\n",
            "Epoch 118/200\n",
            "37/37 [==============================] - 0s 4ms/step - loss: 0.0043 - accuracy: 0.9992 - val_loss: 0.0837 - val_accuracy: 0.9865\n",
            "Epoch 119/200\n",
            "37/37 [==============================] - 0s 4ms/step - loss: 0.0042 - accuracy: 0.9992 - val_loss: 0.0836 - val_accuracy: 0.9865\n",
            "Epoch 120/200\n",
            "37/37 [==============================] - 0s 4ms/step - loss: 0.0041 - accuracy: 0.9983 - val_loss: 0.0856 - val_accuracy: 0.9865\n",
            "Epoch 121/200\n",
            "37/37 [==============================] - 0s 4ms/step - loss: 0.0041 - accuracy: 0.9992 - val_loss: 0.0835 - val_accuracy: 0.9865\n",
            "Epoch 122/200\n",
            "37/37 [==============================] - 0s 4ms/step - loss: 0.0041 - accuracy: 0.9992 - val_loss: 0.0836 - val_accuracy: 0.9865\n",
            "Epoch 123/200\n",
            "37/37 [==============================] - 0s 4ms/step - loss: 0.0040 - accuracy: 0.9992 - val_loss: 0.0835 - val_accuracy: 0.9865\n",
            "Epoch 124/200\n",
            "37/37 [==============================] - 0s 4ms/step - loss: 0.0039 - accuracy: 0.9983 - val_loss: 0.0851 - val_accuracy: 0.9865\n",
            "Epoch 125/200\n",
            "37/37 [==============================] - 0s 4ms/step - loss: 0.0040 - accuracy: 0.9992 - val_loss: 0.0838 - val_accuracy: 0.9865\n",
            "Epoch 126/200\n",
            "37/37 [==============================] - 0s 4ms/step - loss: 0.0038 - accuracy: 0.9983 - val_loss: 0.0855 - val_accuracy: 0.9865\n",
            "Epoch 127/200\n",
            "37/37 [==============================] - 0s 3ms/step - loss: 0.0039 - accuracy: 0.9983 - val_loss: 0.0857 - val_accuracy: 0.9865\n",
            "Epoch 128/200\n",
            "37/37 [==============================] - 0s 4ms/step - loss: 0.0039 - accuracy: 0.9983 - val_loss: 0.0856 - val_accuracy: 0.9865\n",
            "Epoch 129/200\n",
            "37/37 [==============================] - 0s 4ms/step - loss: 0.0038 - accuracy: 0.9992 - val_loss: 0.0861 - val_accuracy: 0.9865\n",
            "Epoch 130/200\n",
            "37/37 [==============================] - 0s 4ms/step - loss: 0.0038 - accuracy: 0.9983 - val_loss: 0.0856 - val_accuracy: 0.9865\n",
            "Epoch 131/200\n",
            "37/37 [==============================] - 0s 4ms/step - loss: 0.0037 - accuracy: 0.9992 - val_loss: 0.0837 - val_accuracy: 0.9865\n",
            "Epoch 132/200\n",
            "37/37 [==============================] - 0s 4ms/step - loss: 0.0037 - accuracy: 0.9983 - val_loss: 0.0854 - val_accuracy: 0.9865\n",
            "Epoch 133/200\n",
            "37/37 [==============================] - 0s 4ms/step - loss: 0.0036 - accuracy: 0.9992 - val_loss: 0.0838 - val_accuracy: 0.9865\n",
            "Epoch 134/200\n",
            "37/37 [==============================] - 0s 4ms/step - loss: 0.0037 - accuracy: 0.9992 - val_loss: 0.0836 - val_accuracy: 0.9865\n",
            "Epoch 135/200\n",
            "37/37 [==============================] - 0s 4ms/step - loss: 0.0036 - accuracy: 0.9983 - val_loss: 0.0849 - val_accuracy: 0.9865\n",
            "Epoch 136/200\n",
            "37/37 [==============================] - 0s 3ms/step - loss: 0.0036 - accuracy: 0.9992 - val_loss: 0.0844 - val_accuracy: 0.9865\n",
            "Epoch 137/200\n",
            "37/37 [==============================] - 0s 4ms/step - loss: 0.0036 - accuracy: 0.9992 - val_loss: 0.0839 - val_accuracy: 0.9865\n",
            "Epoch 138/200\n",
            "37/37 [==============================] - 0s 4ms/step - loss: 0.0035 - accuracy: 0.9992 - val_loss: 0.0830 - val_accuracy: 0.9865\n",
            "Epoch 139/200\n",
            "37/37 [==============================] - 0s 4ms/step - loss: 0.0034 - accuracy: 0.9992 - val_loss: 0.0861 - val_accuracy: 0.9865\n",
            "Epoch 140/200\n",
            "37/37 [==============================] - 0s 3ms/step - loss: 0.0035 - accuracy: 0.9992 - val_loss: 0.0841 - val_accuracy: 0.9865\n",
            "Epoch 141/200\n",
            "37/37 [==============================] - 0s 4ms/step - loss: 0.0035 - accuracy: 0.9992 - val_loss: 0.0847 - val_accuracy: 0.9865\n",
            "Epoch 142/200\n",
            "37/37 [==============================] - 0s 3ms/step - loss: 0.0035 - accuracy: 0.9983 - val_loss: 0.0858 - val_accuracy: 0.9865\n",
            "Epoch 143/200\n",
            "37/37 [==============================] - 0s 4ms/step - loss: 0.0034 - accuracy: 0.9992 - val_loss: 0.0847 - val_accuracy: 0.9865\n",
            "Epoch 144/200\n",
            "37/37 [==============================] - 0s 4ms/step - loss: 0.0034 - accuracy: 0.9983 - val_loss: 0.0859 - val_accuracy: 0.9865\n",
            "Epoch 145/200\n",
            "37/37 [==============================] - 0s 4ms/step - loss: 0.0034 - accuracy: 0.9992 - val_loss: 0.0851 - val_accuracy: 0.9865\n",
            "Epoch 146/200\n",
            "37/37 [==============================] - 0s 4ms/step - loss: 0.0033 - accuracy: 0.9992 - val_loss: 0.0843 - val_accuracy: 0.9865\n",
            "Epoch 147/200\n",
            "37/37 [==============================] - 0s 4ms/step - loss: 0.0033 - accuracy: 0.9992 - val_loss: 0.0871 - val_accuracy: 0.9865\n",
            "Epoch 148/200\n",
            "37/37 [==============================] - 0s 4ms/step - loss: 0.0033 - accuracy: 0.9983 - val_loss: 0.0871 - val_accuracy: 0.9865\n",
            "Epoch 149/200\n",
            "37/37 [==============================] - 0s 4ms/step - loss: 0.0033 - accuracy: 0.9992 - val_loss: 0.0850 - val_accuracy: 0.9865\n",
            "Epoch 150/200\n",
            "37/37 [==============================] - 0s 4ms/step - loss: 0.0032 - accuracy: 0.9992 - val_loss: 0.0843 - val_accuracy: 0.9865\n",
            "Epoch 151/200\n",
            "37/37 [==============================] - 0s 5ms/step - loss: 0.0033 - accuracy: 0.9983 - val_loss: 0.0855 - val_accuracy: 0.9865\n",
            "Epoch 152/200\n",
            "37/37 [==============================] - 0s 4ms/step - loss: 0.0032 - accuracy: 0.9992 - val_loss: 0.0857 - val_accuracy: 0.9865\n",
            "Epoch 153/200\n",
            "37/37 [==============================] - 0s 4ms/step - loss: 0.0032 - accuracy: 0.9992 - val_loss: 0.0848 - val_accuracy: 0.9865\n",
            "Epoch 154/200\n",
            "37/37 [==============================] - 0s 4ms/step - loss: 0.0032 - accuracy: 0.9992 - val_loss: 0.0873 - val_accuracy: 0.9865\n",
            "Epoch 155/200\n",
            "37/37 [==============================] - 0s 4ms/step - loss: 0.0032 - accuracy: 0.9983 - val_loss: 0.0880 - val_accuracy: 0.9865\n",
            "Epoch 156/200\n",
            "37/37 [==============================] - 0s 4ms/step - loss: 0.0032 - accuracy: 0.9992 - val_loss: 0.0859 - val_accuracy: 0.9865\n",
            "Epoch 157/200\n",
            "37/37 [==============================] - 0s 4ms/step - loss: 0.0031 - accuracy: 0.9992 - val_loss: 0.0852 - val_accuracy: 0.9865\n",
            "Epoch 158/200\n",
            "37/37 [==============================] - 0s 4ms/step - loss: 0.0031 - accuracy: 0.9983 - val_loss: 0.0848 - val_accuracy: 0.9865\n",
            "Epoch 159/200\n",
            "37/37 [==============================] - 0s 4ms/step - loss: 0.0031 - accuracy: 0.9992 - val_loss: 0.0869 - val_accuracy: 0.9865\n",
            "Epoch 160/200\n",
            "37/37 [==============================] - 0s 4ms/step - loss: 0.0031 - accuracy: 0.9992 - val_loss: 0.0851 - val_accuracy: 0.9865\n",
            "Epoch 161/200\n",
            "37/37 [==============================] - 0s 4ms/step - loss: 0.0030 - accuracy: 0.9992 - val_loss: 0.0869 - val_accuracy: 0.9865\n",
            "Epoch 162/200\n",
            "37/37 [==============================] - 0s 4ms/step - loss: 0.0031 - accuracy: 0.9983 - val_loss: 0.0874 - val_accuracy: 0.9865\n",
            "Epoch 163/200\n",
            "37/37 [==============================] - 0s 4ms/step - loss: 0.0031 - accuracy: 0.9983 - val_loss: 0.0872 - val_accuracy: 0.9865\n",
            "Epoch 164/200\n",
            "37/37 [==============================] - 0s 4ms/step - loss: 0.0030 - accuracy: 0.9983 - val_loss: 0.0878 - val_accuracy: 0.9865\n",
            "Epoch 165/200\n",
            "37/37 [==============================] - 0s 4ms/step - loss: 0.0030 - accuracy: 0.9983 - val_loss: 0.0885 - val_accuracy: 0.9865\n",
            "Epoch 166/200\n",
            "37/37 [==============================] - 0s 4ms/step - loss: 0.0030 - accuracy: 0.9992 - val_loss: 0.0857 - val_accuracy: 0.9865\n",
            "Epoch 167/200\n",
            "37/37 [==============================] - 0s 5ms/step - loss: 0.0030 - accuracy: 0.9992 - val_loss: 0.0857 - val_accuracy: 0.9865\n",
            "Epoch 168/200\n",
            "37/37 [==============================] - 0s 4ms/step - loss: 0.0030 - accuracy: 0.9983 - val_loss: 0.0861 - val_accuracy: 0.9865\n",
            "Epoch 169/200\n",
            "37/37 [==============================] - 0s 5ms/step - loss: 0.0029 - accuracy: 0.9992 - val_loss: 0.0856 - val_accuracy: 0.9865\n",
            "Epoch 170/200\n",
            "37/37 [==============================] - 0s 4ms/step - loss: 0.0030 - accuracy: 0.9983 - val_loss: 0.0875 - val_accuracy: 0.9865\n",
            "Epoch 171/200\n",
            "37/37 [==============================] - 0s 4ms/step - loss: 0.0029 - accuracy: 0.9992 - val_loss: 0.0860 - val_accuracy: 0.9865\n",
            "Epoch 172/200\n",
            "37/37 [==============================] - 0s 4ms/step - loss: 0.0029 - accuracy: 0.9983 - val_loss: 0.0877 - val_accuracy: 0.9865\n",
            "Epoch 173/200\n",
            "37/37 [==============================] - 0s 5ms/step - loss: 0.0029 - accuracy: 0.9983 - val_loss: 0.0885 - val_accuracy: 0.9865\n",
            "Epoch 174/200\n",
            "37/37 [==============================] - 0s 4ms/step - loss: 0.0029 - accuracy: 0.9992 - val_loss: 0.0869 - val_accuracy: 0.9865\n",
            "Epoch 175/200\n",
            "37/37 [==============================] - 0s 4ms/step - loss: 0.0029 - accuracy: 0.9992 - val_loss: 0.0867 - val_accuracy: 0.9865\n",
            "Epoch 176/200\n",
            "37/37 [==============================] - 0s 4ms/step - loss: 0.0029 - accuracy: 0.9983 - val_loss: 0.0859 - val_accuracy: 0.9865\n",
            "Epoch 177/200\n",
            "37/37 [==============================] - 0s 4ms/step - loss: 0.0029 - accuracy: 0.9983 - val_loss: 0.0859 - val_accuracy: 0.9865\n",
            "Epoch 178/200\n",
            "37/37 [==============================] - 0s 4ms/step - loss: 0.0028 - accuracy: 0.9992 - val_loss: 0.0890 - val_accuracy: 0.9865\n",
            "Epoch 179/200\n",
            "37/37 [==============================] - 0s 4ms/step - loss: 0.0028 - accuracy: 0.9983 - val_loss: 0.0895 - val_accuracy: 0.9865\n",
            "Epoch 180/200\n",
            "37/37 [==============================] - 0s 4ms/step - loss: 0.0028 - accuracy: 0.9983 - val_loss: 0.0891 - val_accuracy: 0.9865\n",
            "Epoch 181/200\n",
            "37/37 [==============================] - 0s 4ms/step - loss: 0.0028 - accuracy: 0.9992 - val_loss: 0.0872 - val_accuracy: 0.9865\n",
            "Epoch 182/200\n",
            "37/37 [==============================] - 0s 4ms/step - loss: 0.0028 - accuracy: 0.9983 - val_loss: 0.0884 - val_accuracy: 0.9865\n",
            "Epoch 183/200\n",
            "37/37 [==============================] - 0s 4ms/step - loss: 0.0027 - accuracy: 0.9983 - val_loss: 0.0892 - val_accuracy: 0.9865\n",
            "Epoch 184/200\n",
            "37/37 [==============================] - 0s 4ms/step - loss: 0.0028 - accuracy: 0.9992 - val_loss: 0.0872 - val_accuracy: 0.9865\n",
            "Epoch 185/200\n",
            "37/37 [==============================] - 0s 4ms/step - loss: 0.0028 - accuracy: 0.9992 - val_loss: 0.0866 - val_accuracy: 0.9865\n",
            "Epoch 186/200\n",
            "37/37 [==============================] - 0s 4ms/step - loss: 0.0028 - accuracy: 0.9992 - val_loss: 0.0860 - val_accuracy: 0.9865\n",
            "Epoch 187/200\n",
            "37/37 [==============================] - 0s 4ms/step - loss: 0.0027 - accuracy: 0.9992 - val_loss: 0.0881 - val_accuracy: 0.9865\n",
            "Epoch 188/200\n",
            "37/37 [==============================] - 0s 4ms/step - loss: 0.0027 - accuracy: 0.9983 - val_loss: 0.0891 - val_accuracy: 0.9865\n",
            "Epoch 189/200\n",
            "37/37 [==============================] - 0s 4ms/step - loss: 0.0027 - accuracy: 0.9992 - val_loss: 0.0876 - val_accuracy: 0.9865\n",
            "Epoch 190/200\n",
            "37/37 [==============================] - 0s 4ms/step - loss: 0.0027 - accuracy: 0.9992 - val_loss: 0.0874 - val_accuracy: 0.9865\n",
            "Epoch 191/200\n",
            "37/37 [==============================] - 0s 4ms/step - loss: 0.0026 - accuracy: 0.9992 - val_loss: 0.0897 - val_accuracy: 0.9865\n",
            "Epoch 192/200\n",
            "37/37 [==============================] - 0s 4ms/step - loss: 0.0027 - accuracy: 0.9992 - val_loss: 0.0877 - val_accuracy: 0.9865\n",
            "Epoch 193/200\n",
            "37/37 [==============================] - 0s 3ms/step - loss: 0.0027 - accuracy: 0.9992 - val_loss: 0.0861 - val_accuracy: 0.9865\n",
            "Epoch 194/200\n",
            "37/37 [==============================] - 0s 3ms/step - loss: 0.0027 - accuracy: 0.9983 - val_loss: 0.0862 - val_accuracy: 0.9865\n",
            "Epoch 195/200\n",
            "37/37 [==============================] - 0s 4ms/step - loss: 0.0027 - accuracy: 0.9983 - val_loss: 0.0862 - val_accuracy: 0.9865\n",
            "Epoch 196/200\n",
            "37/37 [==============================] - 0s 3ms/step - loss: 0.0026 - accuracy: 0.9992 - val_loss: 0.0886 - val_accuracy: 0.9865\n",
            "Epoch 197/200\n",
            "37/37 [==============================] - 0s 4ms/step - loss: 0.0026 - accuracy: 0.9983 - val_loss: 0.0898 - val_accuracy: 0.9865\n",
            "Epoch 198/200\n",
            "37/37 [==============================] - 0s 4ms/step - loss: 0.0026 - accuracy: 0.9983 - val_loss: 0.0903 - val_accuracy: 0.9865\n",
            "Epoch 199/200\n",
            "37/37 [==============================] - 0s 4ms/step - loss: 0.0027 - accuracy: 0.9983 - val_loss: 0.0902 - val_accuracy: 0.9865\n",
            "Epoch 200/200\n",
            "37/37 [==============================] - 0s 4ms/step - loss: 0.0027 - accuracy: 0.9983 - val_loss: 0.0901 - val_accuracy: 0.9865\n"
          ]
        }
      ]
    },
    {
      "cell_type": "code",
      "metadata": {
        "colab": {
          "base_uri": "https://localhost:8080/"
        },
        "id": "RCH6UEyuo_hI",
        "outputId": "b27f5f46-84e4-4b06-966a-a991bc059e72"
      },
      "source": [
        "model.evaluate(X_test, Y_test)[1]"
      ],
      "execution_count": null,
      "outputs": [
        {
          "output_type": "stream",
          "name": "stdout",
          "text": [
            "5/5 [==============================] - 0s 3ms/step - loss: 0.1185 - accuracy: 0.9797\n"
          ]
        },
        {
          "output_type": "execute_result",
          "data": {
            "text/plain": [
              "0.9797297120094299"
            ]
          },
          "metadata": {},
          "execution_count": 14
        }
      ]
    },
    {
      "cell_type": "code",
      "metadata": {
        "colab": {
          "base_uri": "https://localhost:8080/"
        },
        "id": "cUlGaMvSpQfC",
        "outputId": "f089b8d9-416d-4aa1-bde8-690a47e3d7f6"
      },
      "source": [
        "# Make Prediction with a cutoff point of the 97% accuracy as evaluated\n",
        "\n",
        "pred = model.predict(X_test)\n",
        "pred = [1 if y>=0.97 else 0 for y in pred]\n",
        "\n",
        "print('original : {0}'.format(\", \".join(str(x) for x in Y_test)))\n",
        "print('predicted : {0}'.format(\", \".join(str(x) for x in pred)))"
      ],
      "execution_count": null,
      "outputs": [
        {
          "output_type": "stream",
          "name": "stdout",
          "text": [
            "original : 0, 0, 1, 0, 0, 0, 1, 0, 0, 0, 0, 0, 0, 0, 0, 0, 0, 0, 0, 0, 0, 0, 1, 0, 0, 0, 0, 0, 0, 0, 0, 0, 0, 0, 0, 0, 0, 0, 0, 0, 0, 0, 0, 0, 0, 0, 0, 0, 0, 0, 0, 0, 0, 0, 0, 0, 0, 0, 0, 0, 0, 0, 0, 0, 0, 0, 0, 0, 0, 0, 0, 0, 0, 0, 0, 0, 0, 0, 0, 1, 0, 0, 0, 0, 0, 0, 0, 0, 0, 0, 0, 0, 0, 0, 0, 0, 1, 0, 0, 0, 0, 0, 0, 0, 0, 0, 0, 0, 0, 0, 0, 0, 0, 0, 0, 0, 0, 0, 0, 0, 0, 0, 0, 0, 0, 0, 0, 0, 1, 0, 0, 0, 0, 0, 0, 0, 0, 1, 0, 0, 0, 0, 0, 0, 0, 0, 0, 0\n",
            "predicted : 0, 0, 0, 0, 0, 0, 1, 0, 0, 0, 0, 0, 0, 0, 0, 0, 0, 0, 0, 0, 0, 0, 0, 0, 0, 0, 0, 0, 0, 0, 0, 0, 0, 0, 0, 0, 0, 0, 0, 0, 0, 0, 0, 0, 0, 0, 0, 0, 0, 0, 0, 0, 0, 0, 0, 0, 0, 0, 0, 0, 0, 0, 0, 0, 0, 0, 0, 0, 0, 0, 0, 0, 0, 0, 0, 0, 0, 0, 0, 0, 0, 0, 0, 0, 0, 0, 0, 0, 0, 0, 0, 0, 0, 0, 0, 0, 0, 0, 0, 0, 0, 0, 0, 0, 0, 0, 0, 0, 0, 0, 0, 0, 0, 0, 0, 0, 0, 0, 0, 0, 0, 0, 0, 0, 0, 0, 0, 0, 0, 0, 0, 0, 0, 0, 0, 0, 0, 1, 0, 0, 0, 0, 0, 0, 0, 0, 0, 0\n"
          ]
        }
      ]
    },
    {
      "cell_type": "code",
      "metadata": {
        "colab": {
          "base_uri": "https://localhost:8080/",
          "height": 295
        },
        "id": "NyvHBB_y41LZ",
        "outputId": "a5ee3df7-89fb-4d90-cbaf-1532dfd2f8ed"
      },
      "source": [
        "plt.plot(hist.history['loss'])\n",
        "plt.plot(hist.history['val_loss'])\n",
        "plt.title('Model Loss')\n",
        "plt.ylabel('loss')\n",
        "plt.xlabel('Epoch')\n",
        "plt.legend(['Train', 'Val'], loc='upper right')\n",
        "plt.savefig('loss.png')"
      ],
      "execution_count": null,
      "outputs": [
        {
          "output_type": "display_data",
          "data": {
            "image/png": "[encoded data removed]",
            "text/plain": [
              "<Figure size 432x288 with 1 Axes>"
            ]
          },
          "metadata": {
            "needs_background": "light"
          }
        }
      ]
    },
    {
      "cell_type": "code",
      "metadata": {
        "colab": {
          "base_uri": "https://localhost:8080/",
          "height": 295
        },
        "id": "8ZM1hCH06Afz",
        "outputId": "5c4de271-477c-4aba-e2be-e795ca60d4a6"
      },
      "source": [
        "plt.plot(hist.history['accuracy'])\n",
        "plt.plot(hist.history['val_accuracy'])\n",
        "plt.title('Model Accuracy')\n",
        "plt.ylabel('Accuracy')\n",
        "plt.xlabel('Epoch')\n",
        "plt.legend(['Train', 'Val'], loc='lower right')\n",
        "plt.savefig('accuracy.png')"
      ],
      "execution_count": null,
      "outputs": [
        {
          "output_type": "display_data",
          "data": {
            "image/png": "[encoded data removed]",
            "text/plain": [
              "<Figure size 432x288 with 1 Axes>"
            ]
          },
          "metadata": {
            "needs_background": "light"
          }
        }
      ]
    },
    {
      "cell_type": "code",
      "metadata": {
        "colab": {
          "base_uri": "https://localhost:8080/"
        },
        "id": "TyZ6L_gAF6J-",
        "outputId": "64375438-8ff5-418a-ec1e-8b379a1b825a"
      },
      "source": [
        "pickle.dump(model, open('model.pkl', 'wb'))"
      ],
      "execution_count": null,
      "outputs": [
        {
          "output_type": "stream",
          "name": "stdout",
          "text": [
            "INFO:tensorflow:Assets written to: ram://5620d580-3ac1-4a19-9d83-56efee537c5d/assets\n"
          ]
        }
      ]
    },
    {
      "cell_type": "markdown",
      "metadata": {
        "id": "JfQXLA7cYWDe"
      },
      "source": [
        "#### Predicting on the Lipopeptides"
      ]
    },
    {
      "cell_type": "code",
      "metadata": {
        "colab": {
          "base_uri": "https://localhost:8080/",
          "height": 143
        },
        "id": "ebzxL7w8YU-O",
        "outputId": "271bd00c-6fa2-448c-a6c5-5b5ff93b9dc4"
      },
      "source": [
        "lp = pd.read_csv('final.csv')\n",
        "lp.head(3)"
      ],
      "execution_count": null,
      "outputs": [
        {
          "output_type": "execute_result",
          "data": {
            "text/html": [
              "<div>\n",
              "<style scoped>\n",
              "    .dataframe tbody tr th:only-of-type {\n",
              "        vertical-align: middle;\n",
              "    }\n",
              "\n",
              "    .dataframe tbody tr th {\n",
              "        vertical-align: top;\n",
              "    }\n",
              "\n",
              "    .dataframe thead th {\n",
              "        text-align: right;\n",
              "    }\n",
              "</style>\n",
              "<table border=\"1\" class=\"dataframe\">\n",
              "  <thead>\n",
              "    <tr style=\"text-align: right;\">\n",
              "      <th></th>\n",
              "      <th>uid</th>\n",
              "      <th>smiles</th>\n",
              "      <th>similarity</th>\n",
              "    </tr>\n",
              "  </thead>\n",
              "  <tbody>\n",
              "    <tr>\n",
              "      <th>0</th>\n",
              "      <td>NPA003990</td>\n",
              "      <td>CC(C)CCCCCCC1CC(=O)N[C@H](C(=O)N[C@H](C(=O)N[C...</td>\n",
              "      <td>1.0</td>\n",
              "    </tr>\n",
              "    <tr>\n",
              "      <th>1</th>\n",
              "      <td>UNPD102124</td>\n",
              "      <td>CNC(CC(C)C)C(=O)NC1C(O)c2ccc(Oc3cc4cc(Oc5ccc(c...</td>\n",
              "      <td>1.0</td>\n",
              "    </tr>\n",
              "    <tr>\n",
              "      <th>2</th>\n",
              "      <td>NPA010755</td>\n",
              "      <td>CCC(C)CC(C)CCCCCCCCC(=O)N[C@H]1C[C@H]([C@H](NC...</td>\n",
              "      <td>1.0</td>\n",
              "    </tr>\n",
              "  </tbody>\n",
              "</table>\n",
              "</div>"
            ],
            "text/plain": [
              "          uid                                             smiles  similarity\n",
              "0   NPA003990  CC(C)CCCCCCC1CC(=O)N[C@H](C(=O)N[C@H](C(=O)N[C...         1.0\n",
              "1  UNPD102124  CNC(CC(C)C)C(=O)NC1C(O)c2ccc(Oc3cc4cc(Oc5ccc(c...         1.0\n",
              "2   NPA010755  CCC(C)CC(C)CCCCCCCCC(=O)N[C@H]1C[C@H]([C@H](NC...         1.0"
            ]
          },
          "metadata": {},
          "execution_count": 19
        }
      ]
    },
    {
      "cell_type": "code",
      "metadata": {
        "colab": {
          "base_uri": "https://localhost:8080/",
          "height": 535
        },
        "id": "QlHwJi2_Y0yC",
        "outputId": "b5f0dcd7-e327-4c38-c0d2-5d9f5178eb3a"
      },
      "source": [
        "PandasTools.AddMoleculeColumnToFrame(lp,'smiles','mol')\n",
        "lipo = lp[lp['mol'].notna()]\n",
        "lipo['FP'] = lipo.apply(lambda x: AllChem.GetMorganFingerprintAsBitVect(x.mol, 2, 2048), axis=1)\n",
        "FP = [AllChem.GetMorganFingerprintAsBitVect(mol, 2, 2048) for mol in lipo.mol]\n",
        "dfp = pd.DataFrame(np.array(FP)) \n",
        "dfp.index = lipo.index\n",
        "dfn = pd.concat([lipo, dfp], axis=1)\n",
        "dfn = dfn.drop('FP', 1)\n",
        "dfn.head(2)"
      ],
      "execution_count": null,
      "outputs": [
        {
          "output_type": "execute_result",
          "data": {
            "text/html": [
              "<div>\n",
              "<style scoped>\n",
              "    .dataframe tbody tr th:only-of-type {\n",
              "        vertical-align: middle;\n",
              "    }\n",
              "\n",
              "    .dataframe tbody tr th {\n",
              "        vertical-align: top;\n",
              "    }\n",
              "\n",
              "    .dataframe thead th {\n",
              "        text-align: right;\n",
              "    }\n",
              "</style>\n",
              "<table border=\"1\" class=\"dataframe\">\n",
              "  <thead>\n",
              "    <tr style=\"text-align: right;\">\n",
              "      <th></th>\n",
              "      <th>uid</th>\n",
              "      <th>smiles</th>\n",
              "      <th>similarity</th>\n",
              "      <th>mol</th>\n",
              "      <th>0</th>\n",
              "      <th>1</th>\n",
              "      <th>2</th>\n",
              "      <th>3</th>\n",
              "      <th>4</th>\n",
              "      <th>5</th>\n",
              "      <th>6</th>\n",
              "      <th>7</th>\n",
              "      <th>8</th>\n",
              "      <th>9</th>\n",
              "      <th>10</th>\n",
              "      <th>11</th>\n",
              "      <th>12</th>\n",
              "      <th>13</th>\n",
              "      <th>14</th>\n",
              "      <th>15</th>\n",
              "      <th>16</th>\n",
              "      <th>17</th>\n",
              "      <th>18</th>\n",
              "      <th>19</th>\n",
              "      <th>20</th>\n",
              "      <th>21</th>\n",
              "      <th>22</th>\n",
              "      <th>23</th>\n",
              "      <th>24</th>\n",
              "      <th>25</th>\n",
              "      <th>26</th>\n",
              "      <th>27</th>\n",
              "      <th>28</th>\n",
              "      <th>29</th>\n",
              "      <th>30</th>\n",
              "      <th>31</th>\n",
              "      <th>32</th>\n",
              "      <th>33</th>\n",
              "      <th>34</th>\n",
              "      <th>35</th>\n",
              "      <th>...</th>\n",
              "      <th>2008</th>\n",
              "      <th>2009</th>\n",
              "      <th>2010</th>\n",
              "      <th>2011</th>\n",
              "      <th>2012</th>\n",
              "      <th>2013</th>\n",
              "      <th>2014</th>\n",
              "      <th>2015</th>\n",
              "      <th>2016</th>\n",
              "      <th>2017</th>\n",
              "      <th>2018</th>\n",
              "      <th>2019</th>\n",
              "      <th>2020</th>\n",
              "      <th>2021</th>\n",
              "      <th>2022</th>\n",
              "      <th>2023</th>\n",
              "      <th>2024</th>\n",
              "      <th>2025</th>\n",
              "      <th>2026</th>\n",
              "      <th>2027</th>\n",
              "      <th>2028</th>\n",
              "      <th>2029</th>\n",
              "      <th>2030</th>\n",
              "      <th>2031</th>\n",
              "      <th>2032</th>\n",
              "      <th>2033</th>\n",
              "      <th>2034</th>\n",
              "      <th>2035</th>\n",
              "      <th>2036</th>\n",
              "      <th>2037</th>\n",
              "      <th>2038</th>\n",
              "      <th>2039</th>\n",
              "      <th>2040</th>\n",
              "      <th>2041</th>\n",
              "      <th>2042</th>\n",
              "      <th>2043</th>\n",
              "      <th>2044</th>\n",
              "      <th>2045</th>\n",
              "      <th>2046</th>\n",
              "      <th>2047</th>\n",
              "    </tr>\n",
              "  </thead>\n",
              "  <tbody>\n",
              "    <tr>\n",
              "      <th>0</th>\n",
              "      <td>NPA003990</td>\n",
              "      <td>CC(C)CCCCCCC1CC(=O)N[C@H](C(=O)N[C@H](C(=O)N[C...</td>\n",
              "      <td>1.0</td>\n",
              "      <td><img data-content=\"rdkit/molecule\" src=\"data:image/png;base64,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\" alt=\"Mol\"/></td>\n",
              "      <td>0</td>\n",
              "      <td>1</td>\n",
              "      <td>0</td>\n",
              "      <td>0</td>\n",
              "      <td>0</td>\n",
              "      <td>0</td>\n",
              "      <td>0</td>\n",
              "      <td>0</td>\n",
              "      <td>0</td>\n",
              "      <td>0</td>\n",
              "      <td>0</td>\n",
              "      <td>0</td>\n",
              "      <td>0</td>\n",
              "      <td>0</td>\n",
              "      <td>0</td>\n",
              "      <td>0</td>\n",
              "      <td>0</td>\n",
              "      <td>0</td>\n",
              "      <td>0</td>\n",
              "      <td>0</td>\n",
              "      <td>0</td>\n",
              "      <td>0</td>\n",
              "      <td>0</td>\n",
              "      <td>0</td>\n",
              "      <td>0</td>\n",
              "      <td>0</td>\n",
              "      <td>1</td>\n",
              "      <td>0</td>\n",
              "      <td>0</td>\n",
              "      <td>0</td>\n",
              "      <td>0</td>\n",
              "      <td>0</td>\n",
              "      <td>0</td>\n",
              "      <td>0</td>\n",
              "      <td>0</td>\n",
              "      <td>0</td>\n",
              "      <td>...</td>\n",
              "      <td>0</td>\n",
              "      <td>0</td>\n",
              "      <td>0</td>\n",
              "      <td>0</td>\n",
              "      <td>0</td>\n",
              "      <td>0</td>\n",
              "      <td>0</td>\n",
              "      <td>0</td>\n",
              "      <td>0</td>\n",
              "      <td>0</td>\n",
              "      <td>0</td>\n",
              "      <td>0</td>\n",
              "      <td>0</td>\n",
              "      <td>0</td>\n",
              "      <td>0</td>\n",
              "      <td>0</td>\n",
              "      <td>0</td>\n",
              "      <td>0</td>\n",
              "      <td>0</td>\n",
              "      <td>0</td>\n",
              "      <td>0</td>\n",
              "      <td>0</td>\n",
              "      <td>0</td>\n",
              "      <td>0</td>\n",
              "      <td>0</td>\n",
              "      <td>0</td>\n",
              "      <td>0</td>\n",
              "      <td>0</td>\n",
              "      <td>0</td>\n",
              "      <td>0</td>\n",
              "      <td>0</td>\n",
              "      <td>0</td>\n",
              "      <td>0</td>\n",
              "      <td>0</td>\n",
              "      <td>0</td>\n",
              "      <td>0</td>\n",
              "      <td>0</td>\n",
              "      <td>0</td>\n",
              "      <td>0</td>\n",
              "      <td>0</td>\n",
              "    </tr>\n",
              "    <tr>\n",
              "      <th>1</th>\n",
              "      <td>UNPD102124</td>\n",
              "      <td>CNC(CC(C)C)C(=O)NC1C(O)c2ccc(Oc3cc4cc(Oc5ccc(c...</td>\n",
              "      <td>1.0</td>\n",
              "      <td><img data-content=\"rdkit/molecule\" src=\"data:image/png;base64,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\" alt=\"Mol\"/></td>\n",
              "      <td>0</td>\n",
              "      <td>1</td>\n",
              "      <td>0</td>\n",
              "      <td>0</td>\n",
              "      <td>0</td>\n",
              "      <td>0</td>\n",
              "      <td>0</td>\n",
              "      <td>0</td>\n",
              "      <td>0</td>\n",
              "      <td>0</td>\n",
              "      <td>0</td>\n",
              "      <td>0</td>\n",
              "      <td>0</td>\n",
              "      <td>0</td>\n",
              "      <td>0</td>\n",
              "      <td>0</td>\n",
              "      <td>0</td>\n",
              "      <td>0</td>\n",
              "      <td>0</td>\n",
              "      <td>0</td>\n",
              "      <td>0</td>\n",
              "      <td>0</td>\n",
              "      <td>0</td>\n",
              "      <td>0</td>\n",
              "      <td>0</td>\n",
              "      <td>0</td>\n",
              "      <td>0</td>\n",
              "      <td>0</td>\n",
              "      <td>0</td>\n",
              "      <td>0</td>\n",
              "      <td>0</td>\n",
              "      <td>0</td>\n",
              "      <td>0</td>\n",
              "      <td>1</td>\n",
              "      <td>0</td>\n",
              "      <td>0</td>\n",
              "      <td>...</td>\n",
              "      <td>0</td>\n",
              "      <td>0</td>\n",
              "      <td>0</td>\n",
              "      <td>0</td>\n",
              "      <td>0</td>\n",
              "      <td>0</td>\n",
              "      <td>0</td>\n",
              "      <td>0</td>\n",
              "      <td>0</td>\n",
              "      <td>0</td>\n",
              "      <td>0</td>\n",
              "      <td>0</td>\n",
              "      <td>0</td>\n",
              "      <td>0</td>\n",
              "      <td>0</td>\n",
              "      <td>0</td>\n",
              "      <td>0</td>\n",
              "      <td>0</td>\n",
              "      <td>1</td>\n",
              "      <td>0</td>\n",
              "      <td>0</td>\n",
              "      <td>0</td>\n",
              "      <td>0</td>\n",
              "      <td>0</td>\n",
              "      <td>0</td>\n",
              "      <td>1</td>\n",
              "      <td>0</td>\n",
              "      <td>0</td>\n",
              "      <td>0</td>\n",
              "      <td>0</td>\n",
              "      <td>0</td>\n",
              "      <td>0</td>\n",
              "      <td>0</td>\n",
              "      <td>0</td>\n",
              "      <td>0</td>\n",
              "      <td>0</td>\n",
              "      <td>0</td>\n",
              "      <td>0</td>\n",
              "      <td>0</td>\n",
              "      <td>0</td>\n",
              "    </tr>\n",
              "  </tbody>\n",
              "</table>\n",
              "<p>2 rows × 2052 columns</p>\n",
              "</div>"
            ],
            "text/plain": [
              "          uid                                             smiles  ...  2046 2047\n",
              "0   NPA003990  CC(C)CCCCCCC1CC(=O)N[C@H](C(=O)N[C@H](C(=O)N[C...  ...     0    0\n",
              "1  UNPD102124  CNC(CC(C)C)C(=O)NC1C(O)c2ccc(Oc3cc4cc(Oc5ccc(c...  ...     0    0\n",
              "\n",
              "[2 rows x 2052 columns]"
            ]
          },
          "metadata": {},
          "execution_count": 20
        }
      ]
    },
    {
      "cell_type": "code",
      "metadata": {
        "colab": {
          "base_uri": "https://localhost:8080/"
        },
        "id": "DzPiXyFAaJMH",
        "outputId": "6c56800f-6a84-4dea-9f0c-321ee7aada42"
      },
      "source": [
        "dfn.drop(['smiles', 'mol','uid'], axis=1, inplace=True)\n",
        "dfn.shape"
      ],
      "execution_count": null,
      "outputs": [
        {
          "output_type": "execute_result",
          "data": {
            "text/plain": [
              "(2977, 2049)"
            ]
          },
          "metadata": {},
          "execution_count": 21
        }
      ]
    },
    {
      "cell_type": "code",
      "metadata": {
        "colab": {
          "base_uri": "https://localhost:8080/"
        },
        "id": "AylHkkO2a8LN",
        "outputId": "bf94f539-5fcf-46a9-855a-2ed8c0933ef6"
      },
      "source": [
        "# Features to Predict\n",
        "dxx = dfn.values\n",
        "M = dxx[:,0:2049]\n",
        "M"
      ],
      "execution_count": null,
      "outputs": [
        {
          "output_type": "execute_result",
          "data": {
            "text/plain": [
              "array([[1.  , 0.  , 1.  , ..., 0.  , 0.  , 0.  ],\n",
              "       [1.  , 0.  , 1.  , ..., 0.  , 0.  , 0.  ],\n",
              "       [1.  , 0.  , 1.  , ..., 0.  , 0.  , 0.  ],\n",
              "       ...,\n",
              "       [0.24, 0.  , 1.  , ..., 0.  , 0.  , 0.  ],\n",
              "       [0.24, 0.  , 0.  , ..., 0.  , 0.  , 0.  ],\n",
              "       [0.24, 0.  , 0.  , ..., 0.  , 0.  , 0.  ]])"
            ]
          },
          "metadata": {},
          "execution_count": 22
        }
      ]
    },
    {
      "cell_type": "code",
      "metadata": {
        "id": "iorg_CSyGH5x"
      },
      "source": [
        "pickled_model = pickle.load(open('model.pkl', 'rb'))"
      ],
      "execution_count": null,
      "outputs": []
    },
    {
      "cell_type": "code",
      "metadata": {
        "id": "J4OuquFWbOch"
      },
      "source": [
        "prediction = pickled_model.predict(M)\n",
        "prediction = [1 if y>=0.97 else 0 for y in prediction]"
      ],
      "execution_count": null,
      "outputs": []
    },
    {
      "cell_type": "code",
      "metadata": {
        "colab": {
          "base_uri": "https://localhost:8080/",
          "height": 1000
        },
        "id": "Lxzs39AVbxyl",
        "outputId": "fb33563f-b7c0-4ef8-c9d0-3acc8e6efae3"
      },
      "source": [
        "lp['CT_TOX'] = prediction\n",
        "lp.head(10)"
      ],
      "execution_count": null,
      "outputs": [
        {
          "output_type": "execute_result",
          "data": {
            "text/html": [
              "<div>\n",
              "<style scoped>\n",
              "    .dataframe tbody tr th:only-of-type {\n",
              "        vertical-align: middle;\n",
              "    }\n",
              "\n",
              "    .dataframe tbody tr th {\n",
              "        vertical-align: top;\n",
              "    }\n",
              "\n",
              "    .dataframe thead th {\n",
              "        text-align: right;\n",
              "    }\n",
              "</style>\n",
              "<table border=\"1\" class=\"dataframe\">\n",
              "  <thead>\n",
              "    <tr style=\"text-align: right;\">\n",
              "      <th></th>\n",
              "      <th>uid</th>\n",
              "      <th>smiles</th>\n",
              "      <th>similarity</th>\n",
              "      <th>mol</th>\n",
              "      <th>CT_TOX</th>\n",
              "    </tr>\n",
              "  </thead>\n",
              "  <tbody>\n",
              "    <tr>\n",
              "      <th>0</th>\n",
              "      <td>NPA003990</td>\n",
              "      <td>CC(C)CCCCCCC1CC(=O)N[C@H](C(=O)N[C@H](C(=O)N[C...</td>\n",
              "      <td>1.000000</td>\n",
              "      <td><img data-content=\"rdkit/molecule\" src=\"data:image/png;base64,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\" alt=\"Mol\"/></td>\n",
              "      <td>0</td>\n",
              "    </tr>\n",
              "    <tr>\n",
              "      <th>1</th>\n",
              "      <td>UNPD102124</td>\n",
              "      <td>CNC(CC(C)C)C(=O)NC1C(O)c2ccc(Oc3cc4cc(Oc5ccc(c...</td>\n",
              "      <td>1.000000</td>\n",
              "      <td><img data-content=\"rdkit/molecule\" src=\"data:image/png;base64,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\" alt=\"Mol\"/></td>\n",
              "      <td>0</td>\n",
              "    </tr>\n",
              "    <tr>\n",
              "      <th>2</th>\n",
              "      <td>NPA010755</td>\n",
              "      <td>CCC(C)CC(C)CCCCCCCCC(=O)N[C@H]1C[C@H]([C@H](NC...</td>\n",
              "      <td>1.000000</td>\n",
              "      <td><img data-content=\"rdkit/molecule\" src=\"data:image/png;base64,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\" alt=\"Mol\"/></td>\n",
              "      <td>0</td>\n",
              "    </tr>\n",
              "    <tr>\n",
              "      <th>3</th>\n",
              "      <td>NPA006287</td>\n",
              "      <td>CC(C)CCCCCCCCC1CC(=O)N[C@H](C(=O)N[C@H](C(=O)N...</td>\n",
              "      <td>1.000000</td>\n",
              "      <td><img data-content=\"rdkit/molecule\" src=\"data:image/png;base64,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\" alt=\"Mol\"/></td>\n",
              "      <td>0</td>\n",
              "    </tr>\n",
              "    <tr>\n",
              "      <th>4</th>\n",
              "      <td>NPA005839</td>\n",
              "      <td>CC1C(C(CC(O1)OC2C(C(C(OC2OC3=C4C=C5C=C3OC6=C(C...</td>\n",
              "      <td>0.962963</td>\n",
              "      <td><img data-content=\"rdkit/molecule\" src=\"data:image/png;base64,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\" alt=\"Mol\"/></td>\n",
              "      <td>0</td>\n",
              "    </tr>\n",
              "    <tr>\n",
              "      <th>5</th>\n",
              "      <td>NPA010156</td>\n",
              "      <td>CC[C@H](C)CCCCC(=O)NC(CCN)C(=O)NC(C(C)O)C(=O)N...</td>\n",
              "      <td>0.943182</td>\n",
              "      <td><img data-content=\"rdkit/molecule\" src=\"data:image/png;base64,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\" alt=\"Mol\"/></td>\n",
              "      <td>0</td>\n",
              "    </tr>\n",
              "    <tr>\n",
              "      <th>6</th>\n",
              "      <td>NPA017927</td>\n",
              "      <td>CCC1C(=O)NC(C(=O)NC(C(=O)NC(C(=O)NCCC(C(=O)NC(...</td>\n",
              "      <td>0.925926</td>\n",
              "      <td><img data-content=\"rdkit/molecule\" src=\"data:image/png;base64,iVBORw0KGgoAAAANSUhEUgAAAMgAAADICAIAAAAiOjnJAAAABmJLR0QA/wD/AP+gvaeTAAAgAElEQVR4nO2deWBM1xfHvzOZbBMRS2QhJJUgiyQI1dJEaBtB/EoRgrY0rS0EpUJUVS21VoqktbVi3ylBaWxBaomtJBERCYaI7Imss5zfH28aqcxkfzPK/fz18t5995yZfOe+++4991wBEYHBqG+E2naA8XrChMXgBSYsBi8wYTF4gQmLwQtMWAxeYMJi8AITFoMXmLAYvMCExeAFJiwGLzBhMXiBCYvBC0xYDF5gwmLwAhMWgxeYsBi8wITF4AUmLAYvMGExeIEJi8ELTFgMXmDCYvACExaDF5iwGLzAhMXgBSYsBi8wYTF4gQmLwQtMWAxeYMJi8AITFoMXmLAYvMCExeAFJiwGLzBhMXiBCYvBC0xYDF5gwmLwAhMWgxeYsBi8wITF4AUmLAYvMGExeIEJi8ELTFgMXmDCYvACExaDF5iwGLzAhMXgBSYsBi8wYTF4gQmLwQtMWAxeYMJi8AITljaIiYFUCgDR0ZBKsWcPtm1DYaG23apPmLC0wcGDShnt2IHZs2Fjgw4dMH16JXfI5fI///xTQ+7VB0xYWmLFCixcCIkEeXno0gVOTiBSVzYyMtLR0dHLy+s/pC0mLC0xbRpmz4aVFWQy5RmpFKNHw9cX9++XlcrOzh43blzv3r3v3r1rZ2dnYGCgHW9rjkjbDryRNGsGHR0AMDeHtzeCgiASoXdvjBgBqTTrwYOVXl7Tp0/ftGnTd999l5OT06BBgwULFkyYMEFXV1fbrlcbYmiLO3fo7FkqLn5x5vp16tv3y/btARgbG3P/oB49esTHx2vPy1oiIPWPdgaPHDiAhAS4uODAAaxbB4Gg7MqVK1cmTJggkUiKi4s3b97cv39/LbpZe7St7DeVsWOVBwsW0MOHL108efIkAE9Pz/Ini4ooP5+IKCuLZDJN+FgXWOddSwgEyqGsggJU6JLr6+sDKC0tLX/y+nUcOgQAP/+MtDQ11T5+jNu3oVDUu7815Q0S1s2bWLYMAMLCXoxHrl+vJW/8/TF5MpYtg64u5PKXLnJvfyUlJS+dv3QJu3fj1i01de7di/Bw3LmDwMD6d7iGvEHCys7G8eO4fRt37yIuTtle/P23lrzp3BnDh+PWLaxbh27dXrrItVjFxcUvnbexQceOaN5cTZ2RkQgOxuDBaNwY6en173NNeIOEBWD8ePz0k3IksmyEUmucO4ctW5Cfj+RkXLtW/gonrIotlrk52rRB06ZqKiRSPgSLiqCnVyNf0tKUI/87d2LfPjx4AADr1tWojn/xZglLTw9+foiIAMqNUGZno8J/UCP4+EAoTGvS5PcePTZFRpa/wj0KCwsL5eWeki1bKp+ZTk5o3LhCbTt3YsQITJuGpUthagoTkxr5UlSEK1fwxx9ISUFKCnJzgbo152/QAGmrVigpgY0NevaEnR309QGgVy/ExCAuDpMna9whZ2efTp2OxMTg0aO2qalGb70VGxsbFxcXGxubmJgoEomePHliYGDg5tZdR+eMmRns7RERgXffRUwMevX6d1UHD8LPD61aYdky+PhALK6FO4MH48ABWFpCVxcbNsDcHLGxdfh02n4t1TQTJhBAs2a9OJOWRjt3aseZMWPGABAKVTw3GjdubGZmBqBjx14AAfTRRxQaSmPH0jffUEQEXbmirKS4uPixjw8BJBSSSESJiTV14949io6mVasoPp5sbGj5crp5k4goIIDy8uj589p8tDdugPTcOXh4oF07io+HQCAAsGABOnSAj49G3bhzB+HhscuXd5DJZO3atcvLy3Nzc3NycnJ0dHRycrKzszMxMQFQXFwskeSnpjZ78gRyOUpKYGqKefNQWopbt9ClCwIDj6akXJszZ06QtfU8HR19b2+Ehqq0+Pjx4xYtWqj05IMPoKuLlSsxYAC2bYOlJRwcYGmJ/fvRtCliYjBtWs0/YW3U+F9GoaCPPtreoIHlqVOnNGBu0SIioufP6aefyN2dioro2DHq14+EQjI0JBubroGBgXfv3q1OVcnJ9McfREQBATRxIjVuTG3bFgHQ4aYdAQtT06KMjIo3btmy5bPPPgNgYWExZMiQ8PDwzMxM7lJcXFy/fpcB8vSkggIVRp8/p82ba/PB3zhhEdHcuXMBeHh43Lhxo6SkhFdbAQFUUkIZGRQcTP/7Hy1cSHv3kq8vGRhQQAClpBTVuubCQtq164a7u7tAIDAzMxMIBF9++WXFYuHh4ZzyjIyMyloTPT09T0/PqVOnmpmZCQTCzz+/oe55t3Il7dxJCkWN3XvjHoUAEhISJk+efOLECSLS1dW1t7d3dnZ2cXFxcXHp3Llzs2bN6tHWoEF45x2UlKCoCMXFaNwYIhHat0eXLjA3rx8TsbGxkyZNOn36tJ6e3vLlyydNmlR2KTQ0lPvzl19+GTNmTGxsbERERGRk5Llz57ixDBMTky5duvz+++/iWvX3K6PGUnwtkEgkn3zySYcOHfT+Pd4zderUGzdu1KOhiROJiJ49o+Bg+uorKiykjh0pKqoeLRARKRSKkJAQLqjGx8cnKyuLiFavXi0QCIRC4bp1614qn5WVtWfPnqlTp8bFxRUV1b7VrIQ3VFhllJaW3rp1a/v27TNnzmzfvj2AQYMGVX1bYSGtWEHz59P585UXPHuWQkP3urnJTp2i6GgioqtXKTW1PlxXYeuspaUlgFatWk2bNo1T1fr163kxVhVvurDKk5aWJhKJ9PT00tPTqyi6aBHFxpJCQePGqXsdv3v37qRJk+bMmTN06NAePSYcPFj/DlfkwYMHXbt2BSASiQQCwU8//aQJq6rQtrASE2nfPpJI+LUSF0fTp9PMmVU2MH369AEQFhZWRYVlQS+rVtHt2yqLBAQE5OfnE5FMJjtfld16pKSkZMyYMU2bNjUyMkpJSdGY3ZfQ6pTO7dsIC4O1NebMwbNnPBoKCcEPP+CHH/Dbb5UXHDlyJIBt27apLVFQALkclpZITgaAxES0aqWyYElJSYMGDQDo6Oh07969tq7XGD09vbCwMFdXV6lU+u23V7i5ds2jVWEdOYKJE+HmhpEjceYMj4aEQohEAKqcmh0wYICxsXF0dHRSUpKKyzIZBgxQBqdv24b589GvH/6JIX4JZ2fn7du3P3r0KE1t8BRf6OjobNu2rVu305s3D541S8PGlWhVWMbGyM4GgKwsdf+e+kEsxqNHyM6uGPlUoaB44MCBRKSy0fp7xQpERuL8eXh5YcgQzJmD3r0rFpPL5Z988kn79u0bNWp0/Pjx+vkINcTCwmLevG66uigoUEY8FBa+WGCmgSEmrY5j5eZi5kxYWSEtDSNHws0N/wwi1zNFRdi6FUlJkMmQl1d5OMiOHTtGjBghEonatGnDzbFwky0nT54cM2bMsrZtpz98CIEAp0+ja1eVNYSHh48aNcra2johIYELgNEW9+5hyRK4u+PTTzF1KmQyrF6Nu3fxxx+8xwJqe4A0MxNr1mDTJqSk4PhxeHnxZWjuXMyfDx0dKBR48ABWVipLlZSUeHp6Xrx4seIlY2Pj58+fCwSCEfb2v86fL/r444pl0tPTQ0NDxWKxXC53c3Pz4u/jVJvp06FQ4JtvMH8+MjIQGIiHD/H4Me/C0nbYTEkJ5s9XHm/ZwqOwunYFEQwMSiws7hw75vrllxWLEGHaNGlmZnNra+sTJ07k5+fHxsZevXr16tWrN2/ezM/PNzMzy8zMtPX1VakqAN98883ixYsFAoFAIDCpYUQUf3z9NZYsAYDSUmRnIy9PI1a19Tr6gvffL2zdeqODw9vW1tz7eS04fFg5/DhzppoSpaU3+vTxsrQE0KlTJ5VF5s8ngCwtFbduvRx5UlpaumXLFgBmZmZSqVSdGypn67TLtGlERGvW0IQJymmAhATSwPCW9iNID44eLb5/f1pq6uUHD3bv3l27SoqL8fgxJBI8faqmhK7upnbtTqSm6uvrX79+fceOHTk5OdyVy5eRmgoATZuiRQvs3Clo396uwt26I0aMcHbu0Latz8WLatPCyGSyivHE2mXKFBChqAgXLmDsWABo1QpDhvBvmHfpVkVeXp5YLBYKhXp6elZWVn5+IxcsoH37KDKSvL1JoaDFiyk0lO7fJyL65hvVlezZQ7Nm0aZN9MEHag2dP3/e0NCwUaNG3Af39JxpZUVeXjR8OE2dSkQ0ZQrl5lbm6uzZBNAXX6i+WlJSsn///nnz5gUHBz958qRaH15TeHgQQBs2VLiQnExff03Tp9O1a/VrUdt9LEAkErVs2TIhIUEmk0kkkmvXbu/YAQDu7mjVCps3o6gIAgHS0mBkpL5BAnr3Ro8euHJFbYEdO3YUFRWJxeLhw4enpKQIhW9LJJBIMGwYOnXCsWMA0LBhZa6OHImFCxEZCYUCFaM+T5069fHHH3t5eWlriKESPv0UCQmK6OiL/v7dcjIzG0VHIzoa5uaIj0dICPT14e9f5ehxjdCysBQKxYgRIxISEmxtbaOiojIzM5OSCi9dwo0bcHCAg4Ny9YpYjMhImJsrn1kVsbdXLud6/33VBX788cfQ0NAGDRpERkZ26NCBO5mcjOvXcf48fH0xaZLasY5du/DBB2jaFKdO4fPPMXEihEKEhWHChH8V27NnDwB3d/eafw284+tbMn261W+/ZZ492zo5OVnarJkwLQ2tW+PDD2FoCAAGBiAqv9K/rtRvA1hTZs2aBcDExCQ2NvalS/HxtG4dPX5MzZvTkiWUkEBEFBCgup4//qAePai0lCZPVnH1999/FwqFOjo6R44cqXh16VIqLaX4eBo3TnXlixYpJzMnTqQpU2jCBJLLaeJEunqVysIEpVJp06ZNAcTFxVXjc2sBf39/7j+up6cXa2dHurokEJC/Pz17RgUFNHp0/ZrjvcXKy8tLT0/fuHGjq6urs7Nz27ZtRSKl0Q0bNvzwww86Ojo7d+50dHR86cYWLfD++ygshLc3GjeGpSUAjBql1lD//lizBgBmzEBJCRwd4eJyw9nZ7v79+yNGjFAoFIsXL+7bt2/FG42NoasLe3v805CpYNUqNGyI+/fh4IARI7BxIzIy4OYGXV307//U2HimkZFRZmamg4ODg4NDzb4gTeHj4xMREZGWllZaWprYvLnj/ftwcsLo0Vi/HnI55s2rX3P8Cqu0tLR///4PHjx4wK2ABPT19Z2cnFxcXMRi8fr16wEsXbrU29u74r3GxjA2xpo1+PVXpKaCG3jq3FmtLWdnnD2LR49w5gyysmBgAJnsXYWilBvYHDZs2IwZM1TeePv2ywcVCQxEixbgYjO7dUNEBEpK8NZbSE5GZmbK/v3hACwtLT/88MOqvxQt4eDgkJaWJhaLv/rqK0t3d7z9Nrj3GJ4myOu3AXwJLi7WxMTkiy++6N27d/N/Lw5v1qzZJ598UnkNT5+SSEQuLoUZGTnqykRE0ObNdPw45eWRoyOdOEFLl9L48Tmurq76+vqmpqaGhoa56t/3AgJowQJasICGDVNd4OxZ5dvi4cN08iQRUXo6/fknEVF2Np07dycsLKxdu3YANm3aVNVXojVyc3MBGBkZacYcj8JauXIlALFYfPny5bKTGRkZJ0+eDAkJ8ff3T05OLi6fdkwNo0bNg/oYqQsXyMCAzM3p6VMVV6VSqZOTE4C9e/eqq7+s38aNH9aOwYMHA9i9e3ftq+Afbj1FXl6eBmzVVVi5ubmlpaUVzx86dEgoFAoEgrp/17t27QJgZWW1du3av/76q/zofHJycp8+00Ui6YQJam9ftmwZgAEDBqgrcOCA8qAuQZ5c7y0iIqL2VfCPra0tgATuPYhnai8shUIxY8aMzz//HIClpaWPj09QUFB4ePjt27dv3LjBZTqcO3du3V0MCQnR19cvWz0nEAhsbW0HDhw4c+ZMOzs7AKNGfaNK20qePHmio6NTrYDjOuDp6Qng9OnT/JmoO++99x6AM2fOaMBW7YX1/fffc0+6iv027uTgwYPlcnkd/eNaPqFQOGbMmLFjx7777rvG5SK3mjVrZmRktG/fvsor4aIMqg44rgNvv/02gEuXLvFnou4MGTIEQHBwcHR0dExMzJ07d5KSktLT07OyshS1WDpYKbUU1pYtWwQCgUgkOnr0aGlp6e3bt3fv3j137twhQ4Y4Ojp27949ODi4QOXS2ppw8+ZNTkYLFy4sO6lQKJKSkrZt21bWjA1T1+su5y2A7t2719EfIiKplFJSlBlpc3IoLu7a2bNbtmzhlsfcunWrHkzwxsSJE1Wusgdw+PDh+l27WxthRUdHc3l2QkJCVBaoTpe8DKlUmpOj4o0vLS3N2toagLo3R+7d3srIaNcHH1ClYRF5eXmGhoYCgWD8+PHbt28viI1VJvFMSaEff6Rt20gmU77mEVFkpNqKiopo9Ghau5b8/WnxYgII+KFcuF9SUlJ1P7Y24IZ1XF1d33nnHTc3tzZt2rRu3bpJkybcf3PNmjX1aKsyYc2ZM2fRokWHDx8uv9jj3r17pqamAALUjYLXhN27d3OD740bN+7evXtgYODatWvPnTuXlZXVrVs3AD169FD3S7qwc+eDbt3kTZoQUHmCgbi4OLFYzP1YdYRCRYMGZGRE/v702WeUm0tnztCyZcqXQ4WCJk1SW9Hhw8oe/p07NGgQ6epSw4Y/tWvXqFEjkUjUvHnz8u+/ryDccM+9e/deOn/o0CEApqam9fjCqFZYCoWifG+mUaNG7u7uX375Jfdm0bNnT5UvgzXi4sWLhoaGALjVLOXhFvVaWVlVFibw/Dk1aEACAQE0cKC6UhKJhJOUl5dXUFBQ4NCh1LIlATRsGP3wg7LQ2LHk66sczqpEWAcPEvfed+8eBQRwLdZZT88yt7W4jq9KMjOpZcskT8/dKju+3M/4+++/ry9zaoVVWlq6a9eu4ODg/v3729jYlH13tra2LVq0qLu0794le3upk9Po6dOnE1F2dva5c+fWrl0bGBjYvXt3sVi8bNmya1XGcnz2GXl7U0AAHTpEquLvnj9/7ubmxrV8//olZGfTvXvKmcXsbJo2rVotVn4+ffYZRUTQ2LF09Sp9+y39/HPqsWOXLl1asmSJjU3vqVMP1/iL0BSnTxNA77yj+mpUVBQAExOTDFX5ampBdftYOTk5586dCwoK4trMOjZXUim5uBBA//ufVKYqZ3kNemnBwfTnnxQVRVOmvHRFLpcPGjSI+zGo/r727qXvvqOgIEpLo+XLlSdXrKjMXEEBXb9OFTqFcXEEUIsW1fVawxQV0fHj1LlzZYPAvXv3BsD9zssjkVBhIRHRw4fKUWi5nJ49q8JijTvv3ED2oUOHqlO4bOyx7GDFCsrNpexsWrSIunevvM9dPcpiEioEJwQHB3O/Qg1EHCgUZGZGQC3y6WmC+fPpu++IiKZMUWpLoXhZZDExMQKBQF9f/+eff/7zzz8vXnx87RolJdHUqTRvHhHR5MnKZj0nh2bPrsJijUOThw8fDmDr1q3VKVyWsvXkSeXB339j6VIUFkIoRFQUKnSuak7ZUt9/r/l99uxZWFiYUCjctGkTfxEHXHggd+DjgwMH0LAhzp7lyVqdeP4cd+4AQHExrl59KU0zALi5uX388cf29vbjx4//8MMPv/46p1Mn2NpCIoG+vnKGPiMD27Zhz56qzdU4umHkyJFz5sw5dOhQTk5OWZivOgoKsHAhgBe7h5qawtQU168DUBGEWRtGjkRQEHR0MHBg+dNmZmZRUVEXLlwYMGBAfZhRzdGj6NNHeVBSglu30LUrLl5Ejx782awlU6di4ULo6UEmU5sEfteuXXv37t27d29OTo6FhUFeHvLzYWCAwEBMngxDQxgbo3t35OcjJaUKczUWVqtWrTw8PM6cObN//35uPqcSjIwwezYAlEsGhoAA+PmhS5eaWlaDpyfKvZeVx9nZ2dnZuZ7MqIX75WRkwMoKurqIj+fbYC0xMEC/flizBra28PYGEY4cebmMjo7O0KFDhw4dWv5kUBD09ODri19+gYUFbGyQm4viYmzfDjc3tGunxl4tHtgbN24E0LNnzypL/vyz8iAsjHbtoq1bKTyciOjChTrN+L46lHVTAgJo2jQqKqJBg2jxYq36VIH4eLK3p61biYiSkqhsGKvCeJZquJ47ET1/TtxggEJBeXlUXKxqdcY/1OZp1KlTJ7FYbG9vT1Wtoh43Tnkwfjw8PKCvj08/BYBu3fDRR7Ww/MrRtu2LgzZtYGCAceOQl1fZog/Ns3Ah7twBt7q7dWvY2irPlx1UDhcTD8DISJlhQyCAUIgVK1BZXGNN5Z+Tk8OFEY8aNar6dz1/TtOmkUam1bUMt+r11Vm4+uDBg169Dltayut3tiknh2JiqJL0WzUTVklJiYeHBwBnZ2fNxIv954iLI5GILCyexsYma9sXIqKJEycCGDhwsIbt1kxYXG/dzMwsOTmZH39eB7777oSxccO+fftq2xG6evVq27ZtARgYGKxdvZrqHMVUfWogLC7UWF9fX5OJD/+LPHv2jAsC3rJlixbdePjwITfrzE28Xn3vPeralTS1vXR1hRUVFcUt21q7di2vDr36yOXySsLiSktLAwMDBQJBw4YNxWKxZva/qEhmZqa9vT2Axo0bAxhsbU1GRgRQr16acaC6wioqKvL19Q0KCuLVm1ecJ0+eeHp6jhs3rnnz5nPnzn1WYcIsNTW1V69eAHR0dDp37sw18CpXyfJKcXExtyC7Y8eO2dnZS5csKbK3J4AaNqSNG2nyZJozh9TE0tUXNXgUSqWqJ4zfEC5eLLKxsUW5IJ8GDRqMHz/+9j9ZkyMiIrjF0DY2NpcuXVIoFOPGjQNgaGh4kls1phHkcrmvry/nxougo/v3ydOTli+nsWOVG5gEBFCdA58qQfvZZl595HKaO5d0dMjTM9rLy+vp06dHjhzp3bu34J9MB56enn5+ftzucL169Ur9Z4MAhUIxduxYAJp8Js6cORNAw4YNb3J7w5UhlZJM9mKqfsoU1dsy1RNMWEqKi2nVKiKi8+fpwgUiIolEmdDgxx/JxIQEAvr6a0X5rGv3798PCgpq0qQJgNatW+vq6oaEhLzU/ZLJZMOGDQNgYmLCt7aSkuTe3n1at24tEonULp0NC6MNG+j4capkxVx9wISlpKCAZswgIoqIoKNHiYiSkmjAANq5kxYtovBwUhcolJ2dvXz58gsXLqhb+3X48GGBQGBkZCQWi2fPjkpL48X/v/4iIyPy9JzNBbDb2dlV7AIq+ftvOndOZVxkPcKEpaSggNzdacEC+vTTF8JavZomTaJZs1Qvs64WSUlLPD0BCIVCXd0Wxsbyzz+vH4fz8ohb9nb5MsXEkERCjo7Up09pampqz549Abi5udU69WbdYcJSUr7FOnSI4uPp3j1avZokErK2rq2wCgupQwcSCA7b2enp6AwZMqNjR3r4kP76i7ZuVWYHXbmSavdGJJFQmzYUF0crVtCKFXTlCuXkKAPxMjIyuHHRvn37VpIxlVe0n4P0FUFPD/36AYCjIxo2RFoakpPRsydatMBvv1WR6U8tWVkggljsc+9e8scfr18/r1cvtGyJnBw8e4bERERF4fFj/JMMtbqkpuKXXxARgdGjsXKl8uSvv2LNGuW+802bNj127FizZs2OHj064aX0cJpC23neX0kUCmzciOHDUW5T0hoil2PDBjx+jP79sXw5Tp7E1aslFtYffABvbyQmwtUVFhY4cwYGBoiPx99/w90dXl673N1duYHNiiQnJ+/fv/+vv7IOHFioUMDNDX5+cHbGt9/C1xceHujcGRMnKpOEATh16pS3t7dUKj1y5IjKxGC8ov0cpK8gly5BJEJ6eh2EFRKCd9/F6NH44gts3ozsbFhYoARdu2L2bPzxB+LjIRBg0iR8+CGMjZGWhuPH8w4eHCmTydq2bSuTyQDk5+fLZDKZTJafnw/A3Nyc25anXbu57dvreXigSRN4eeH339G0qTK4pXyeqF69evn7+x84cIC7XdNo5QH8+lO279yKFfRPdheZjLgBh/v36fJlZZzd0aMkl9O9e7R9u2TkyJFNmjQxLAuA+jfclN8vv/xS/SVMXEMVGhpa3x+vapiw+OHrr5UrpKZMoZrEF61evRqAn59fUlJSWlpaVlZWbm7u+fPnAXArDKqfFio9PV1XV1dXV5fXNDvqYI9CfpgxA6GhkMvh4VGjjc0eP34MwMHBoXXr1mUnHRwcpnbo4FhQ8J6zc7OHD6tZ1d69e6VSqbe3N5cSQcMwYfGDqSnmzq3FfRKJBIDVv/eQatKkyY9paUhNRWIizM2rWdWOHTsA+Pn51cKNusOGG14tuBbLquLmZE5OAKCjg+ptmSqRSLidOAb+e1WcxmAtluY4c+aMu7u7TqV7MqpssQBgyRLs2gWFAubm1cn0v3PnToVC0a9fP2NedxhVD2uxNMSJEyfef//9d955JzExsZJijx49gkphFRSgTRssWwZra0REVGluwIAB33777Zeqds/TDExYGkIsFjdv3jwmJubtt9+uuMlZUVHRunXrXF1d9fT0PvroIxXNTGIiXFwAwNUVlUqTw87Obt68edrciVPzL6JvLLm5uVzmCwCDBw/OysoiopycnOXLl7dq1Yo7b2FhUTExGhHRtWvKhbBhYfRqp9DlYMLSKAqFYtWqVdxG0ba2tsOHDy9rnFxcXH777bfKBj/37aMFC2j7dg36W3vYXKEWuHPnzrBhw+Lj4xUKBQA/P7/JkydzCeJeG5iwtENKSspbb71lZGQUExOjbtb5Pw3rvGuH7OxsALa2tq+lqsCEpS248Sp1WddfA5iwtIPagdDXBSYs7cBN3bAWi1HPqJ0TfF1gwtIOr/2jkA03aIfY2Njk5ORu3bpx611fP5iwGLzAHoUMXmDCYvACExaDF5iwGLzAhMXgBSYsBi8wYTF4gQmLwQtMWAxeYMJi8AITFoMXmLAYvMCExeAFJiwGLzBhMXiBCYtpiKMAAACzSURBVIvBC0xYDF5gwmLwAhMWgxeYsBi8wITF4AUmLAYvMGExeIEJi8ELTFgMXmDCYvACExaDF5iwGLzAhMXgBSYsBi8wYTF4gQmLwQtMWAxeYMJi8AITFoMXmLAYvMCExeAFJiwGLzBhMXiBCYvBC0xYDF5gwmLwAhMWgxeYsBi8wITF4AUmLAYvMGExeIEJi8ELTFgMXmDCYvACExaDF5iwGLzAhMXgBSYsBi8wYTF44f9bdrulsMj5zgAABGR6VFh0cmRraXRQS0wgcmRraXQgMjAyMS4wOS4yAAB4nL3Sf1CTdRgA8GfvYOPnJmOwDRi8KIxXQHCL8SvY3q8TEJAldSQVnoZyw+OH6REeoR1XJpsXTgiuu8wKOyvJH3BpXHWw9+2HeERREodcxPyR1GUdKViaRW3P9ETTf7rL79275/M+932f7/N9btP9hyfBtQLh1lp142kSiGCdKwqEnkhRnih05Rl39PLxREoMlRgF923DzV7uY0/zj5o/ljvHQ7k+xPz8ArdXvr3Qf/7wVic+nij4v068c9x3G//dZnHz/d+d3quRe+X9QeD6BUro6o2hhN60twhEYhD7MJTYl/b1Az9/8A9gKP9AOlACEilIFzCUNIgOkoEsGILlIA+BkFCGClHQCiUoVaAKYyhVOB0eARFqUEcylDqKjqCBjobohRC9CJQxEBMLsRqQx0EcQzOLGYqJh/gESEiExCUQnwRJyXTyUoZK1oJWB7oHQJcCWj3oU+nUNIZKTYf0DMjIhMwHIT0LsrLpbANDZRvByAJLgCyDZSYwLQdTDuTkgiQP8lZAXj74FUBBIRSuBFERFJnB/BBEUSAXKFw3Fol9/fwDJdIgWbA8RKFUhUeooxSDQtdw4MZaZWuLJFfl45z7Jb1BQ2b5d9HmoVAi2diM/rtLQ379Ihdd3JVJZs41opsVWhLQdcbh9p+FelJs293vtvWqjhTU7zW63VZcQKZ+GkCX5MeToYw41u2c8+HkVXEd+oMxH5KU8TL6WK+cvD7NodvpC2y97CB62nKc/STrCNou3cl6P/oW2tq2iZXFf4N2pOhZ42wresp73DieUoH+uHeNsT0tBL0+cdiwe7sF+7ky0m04oldi/53n2xwXq7PRuke0xo7NQryjc+K48dLa1eg3t0SyDcMt6AHpSWPr1HvoHc7NbK39ALr1ubfZi4k96MbtY6zl86PojA1OdmCRE/3pOxSJeKETbSrdz+65cAa9drKa7Vsx69ljK2d7QMa7fWpdFJszM4b5y77lBuU2K7rM3O44ylah52ZDua3Vbeg3smyO2vIOz/xfG3SUzcbg3V+5pHYcqqhFx46YuOQTenTUjg1cl5cV/dfznVx7zR70MxM9nMbeh/YaaeL6Dp7Gmpfl3VxF0R/oTTUcN7ZxtWe2c19yzaNmzP9woJ8LSAvDeZbav+Pi5pzoa+vt3BPPrkEXs3NclcSG+8+2S/hq074+nHOliG96vB/3nNZr+J2NBgPOtkvPl2vqMW8tLOKDnTo04cr4hId/RivKk/gPS4awpkSYyz957Rf0ymQzP2osxj5PbC3hm5akYr5PWcMP1zWg61u28aeIFv/DaYpd/Oj7vdluv/R1K59iacb6kv37+LDmQnTdRy284zc1zvyrpzt4aaUFXSU6xh5Om8Szrp+bYPMtv6MfO2ljr1NX0KKZRPLjZ3vRfqrlZFBlRw8yJeT7b7vRS/OKSP/ZQ9jPi1tKSfTiUTyXq3mKZDkm0KH/AIX9fmPznbxAAAAGfnpUWHRNT0wgcmRraXQgMjAyMS4wOS4yAAB4nH2YS24dNxBF51pFb0AN1pfk0LaMIAgsAYmTPWSe/SP3sp/Zz0ghkl5BoqvZh/WnXw5+/f7229//HPtL315ejqP9z8+c8/jLWmsv3w7+cnz++suv78eX758+/1j58vHn+/c/jtH4s75/1v30/ePbjxU5vhzznNJ6j+M1zz5sCJ442/q6H1UoSju9eUw/XuO07K5ZaNra0tUHXv/qp5pE90LRH1sKdurHq53S0mQWmnF8HCJnZsYQak6Lrr3QzOOdmi2HOjDl7BEyqj073y6nmbTAnu1UnH1KoTkuTRmRvR9yqnh49fJJTD3TfUpAMZLPFIqw8DuPnq6z2YFHZP1SaF4OgqnnyMPOAcWsjCl00DgjNLMffnaNbpUjxUA5T50+fB55Np0apaIDsp+STWHqOHVY1IyBVwe8M6ZR0Xn+yj6SUHQYchqiOE6ZY/37fxU7GA2nhncGGNOaWGnIAUY9h4nB3U6Lt4xKcdKJZ87wadgacWTlqRX5g+WR2UZgaxBEeRiVpYiEyIU2G9Kh3FGXonkgZRhoSKDIKiSVrkHMineEN1U7DOWVzZXOQQBNzZ7Hq54tbLRRacY6uWsb8B5yxzKQkpUm3aMnX8589NOZuZXZlf5hfCMqhcUgFU6t7K50EDzZCUpN6dajPPxcUaTmOQY1aS6rzs4Sh6Do5u3aEy6NUZkex/yAJsJsDmd5m92k9KYpOAeCPZVWirN591lxmi3O1k1R1V47Emg0LTlZ4HD2huqq1Eyz0cs9Y2mGTRS443WeoiFliNjDRxNvXSfqSGMvy3BfYafausuqwxniVYQYCxzDLkb6Kq/ZY9RHmjATog327rQTMo7RUtneWeOwK84uaYgWlPmWFanL9X68k7VNsSeQy46hTBCEPYyTg7ZVn2WFdXoJJ2kxeypLhKOMVVHvfmlGb5GsIaiGdXo6vXSFhmFPnF3MyvxwtiGGMMoM9oxzqgG10uzUdARRMC1kZXQZyz6utwdUg21oRvioYtnZhxAaqJnw07EyHrW76qvMJGgi5SLo79H6LKMp5Hr7hG9ilSa0BZi0UtVrU54Z0OzByCSvTh+r4KHQIEHDuetAcWrlCMCChxxC7TTAMK4aSQrN5aaBoQZNYXDT1rOXMwBC54Oq3lrg2ECFRcUqo0ZfQYo6PoYsE8nIJlU+xZVPmC0CYbyMNVOiTKiYS5ctrE2kDA07wVD5IK+MQtTPZKcF7vDUqBhSli4MOsd0hktM9KlyW30gGFM5oToC/buizatBgRZ+wq6GojKjTKtcaQVYc8H0Ao0uqAOVw3I5TBzDzYhVS2Z3t8phmUs1MKciDlY3BamUY0leHutgZCJQY8zeqjjMy2MD1RItR1bZCoyD5YR5eQwzWXMMY6tLTwxGVc729kCAQ4O6ylTDKStdeTBgdMUQt8ow2m85Yne9Ji4UDXQBpJpjPiwVbbVKdAtkC4Y52MrKeEEr+0BFMxx7KWZkliW4xzW1I2NpKTgt+ywHj05fIVYUQxmGTmR5x5BQarIIMlRUHXSocaiBXoVKH9ee6BTspLA9K3A5dvU18aGuK9Jl5TZuD1Ym7FjjOAo7ZpR53RoIUhn06/vbT/en60b1+eP97b5R8VvvexP+OOy+HAk+fl+B0EeOuO85sOiR92VG8On3jUXwGfe1RPGZ9+VD8Kc83zFkCXm6S8gSGw6XBqWQzScE5MpGRBTIEpuSd5slNijKlVLIZhXCcmXjwvKyxCYWIkPo8/AtFLqZdRkTP7dByUyxmZXMXNnMSmYI3cxKZgjdzEpmis2sZObKZlYyQ+hmVjJD2PM0qseaNZ+mTlkrm9n08dQdBysQcBPZzEZmCNvMFo+VzWx5ncI2s5EZwjazkRnCNrPNy4b+PJvxT0xeTzOYUvhmdjJzZTM7mSH8Dl8y8+K1mX2FcGACepqFrqc2M9sRhW9mZyxD+GZ2MmMlnmcVoYjNzDGAIjZz6GNlM4c9ntrMQWaIuLMOYUERmznIzJXNzImLIjZz0M6sVpuZ8xtFPnfs9VRu5iQzRG5mTqcUuZk5La+VzZxkhsjNnLQzRN7FYlWLRNt7aoBCkZs5yQyRmznntdKfe5ZQ9M3c5cr3vpk77QzRN3O3x8pm7n5Vm76ZO5kh+mbuZIbod427ilzfyJ3IEH0jdyJDjOf6LcyxTcMq/VyT+feP/yHD7y//AtmomndGzyNbAAADGXpUWHRTTUlMRVMgcmRraXQgMjAyMS4wOS4yAAB4nG1USY4bQQz7So5joF0o7RKMnHyffCiPD1k9CIIkc5k2SytF6f1+f7wfb/59fP/x+MSv9+fj9/e/mOD7fPL1/TjP9y/Y/P/7j0/m+stK7u/Hj28/P57SK1vjetpKibLr9ZRaJQlIl2fLEOqlisenrB3VTmhWbZfruVdN7C9HTbFrr92DRyUWC/ZBMymT285XSwfsptztJLBlLgWoRNKOpy6rqEtWx+DpIN0ozJBm4tjs1dMDm5i0uhHrFgSSzi1NSJbFXemgR7WvULaHWE6j3buGmhw22Z5KqNeI2Kl+V1Z3H9D3jqCdw5Vk1BoP2IGe2hVAktwFe+xd4wwWK7ZGwmgifI7RFrNEQ5bRrMsXTIo2OZrMZmB8gKBg36oHidqI40sD0ziRt5cRCcTrO1c0uoo1anWoWtE6jBNVYOPF1iUHSdC3+hwKUL8K00uikeu10asnQoM7DDSJdObG9DAeE06BtbIf1NUk60VuxZzlpDCKYxjjKEYGxSGdG0acK22TvliZ97u7jx4ALDQsBvq4Xvi/teSCMBE4GdDQOYGMTDRTKHhjsrG0WUKjf81CCaVH1bN0HFWDch3oHUC5DqtuIS8vammPwaWzBjGhEYxLAHhxC6hRhSu4xWj8eCRigIlECPwGbX0Uq+KYPSMkOqI8E3I8FiDtSFGr7StLsw5AZpV58oQ25ZUZXAXs0KYYgGBQcWfaWNuDRJziMCnMjHss+yyQ0B/xgIx9ceDqkDBUphhd3V6Y7wW9WJYfm8HIYJPYW8MigUrJ1OsWWXAYZY6pAnAE7jMeMHd8BgM6A1RzrhK4QmAjsssUXoVeeuuRwaY6gCREe4QRNqx4lmhw5XGBMPm7GucZoVeNnuy4J9gL2uBMBLtydNUUZKSyHurokIPGd5MJ7Bn3H/Tr5haQigyJo304p59LWNgVQJB4dNEICcrpx7VEVjztOPRgbM4eOcDAFci5Y7GocxxthsSimMHmnVsCqTopIGFYz3NKymF3LoCDzGOGW6e4UY+fvwCSNUAMuJh2OgAAAABJRU5ErkJggg==\" alt=\"Mol\"/></td>\n",
              "      <td>0</td>\n",
              "    </tr>\n",
              "    <tr>\n",
              "      <th>7</th>\n",
              "      <td>NPA021129</td>\n",
              "      <td>CC[C@H](C)CCCCC(=O)N[C@H](CCN)C(=O)N[C@H]([C@H...</td>\n",
              "      <td>0.920455</td>\n",
              "      <td><img data-content=\"rdkit/molecule\" src=\"data:image/png;base64,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\" alt=\"Mol\"/></td>\n",
              "      <td>0</td>\n",
              "    </tr>\n",
              "    <tr>\n",
              "      <th>8</th>\n",
              "      <td>NPA012930</td>\n",
              "      <td>CC[C@H](C)CCCCC(=O)NC(CCN)C(=O)NC(C(C)O)C(=O)N...</td>\n",
              "      <td>0.914634</td>\n",
              "      <td><img data-content=\"rdkit/molecule\" src=\"data:image/png;base64,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\" alt=\"Mol\"/></td>\n",
              "      <td>0</td>\n",
              "    </tr>\n",
              "    <tr>\n",
              "      <th>9</th>\n",
              "      <td>NPA021351</td>\n",
              "      <td>C[C@@H]1[C@H]([C@@](C[C@@H](O1)O[C@H]2[C@H]([C...</td>\n",
              "      <td>0.913669</td>\n",
              "      <td><img data-content=\"rdkit/molecule\" src=\"data:image/png;base64,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\" alt=\"Mol\"/></td>\n",
              "      <td>0</td>\n",
              "    </tr>\n",
              "  </tbody>\n",
              "</table>\n",
              "</div>"
            ],
            "text/plain": [
              "          uid  ... CT_TOX\n",
              "0   NPA003990  ...      0\n",
              "1  UNPD102124  ...      0\n",
              "2   NPA010755  ...      0\n",
              "3   NPA006287  ...      0\n",
              "4   NPA005839  ...      0\n",
              "5   NPA010156  ...      0\n",
              "6   NPA017927  ...      0\n",
              "7   NPA021129  ...      0\n",
              "8   NPA012930  ...      0\n",
              "9   NPA021351  ...      0\n",
              "\n",
              "[10 rows x 5 columns]"
            ]
          },
          "metadata": {},
          "execution_count": 25
        }
      ]
    },
    {
      "cell_type": "code",
      "metadata": {
        "colab": {
          "base_uri": "https://localhost:8080/"
        },
        "id": "z2XC4ZLcc9At",
        "outputId": "652f38ea-3371-4507-f46c-e582b4cc5cdf"
      },
      "source": [
        "lp.shape"
      ],
      "execution_count": null,
      "outputs": [
        {
          "output_type": "execute_result",
          "data": {
            "text/plain": [
              "(2977, 5)"
            ]
          },
          "metadata": {},
          "execution_count": 26
        }
      ]
    },
    {
      "cell_type": "code",
      "metadata": {
        "colab": {
          "base_uri": "https://localhost:8080/"
        },
        "id": "W-ZytE9odgSL",
        "outputId": "ded2de75-25da-4a91-94e7-122db3718a33"
      },
      "source": [
        "non_toxic = lp[lp.CT_TOX == 0]\n",
        "non_toxic.shape"
      ],
      "execution_count": null,
      "outputs": [
        {
          "output_type": "execute_result",
          "data": {
            "text/plain": [
              "(2801, 5)"
            ]
          },
          "metadata": {},
          "execution_count": 27
        }
      ]
    },
    {
      "cell_type": "code",
      "metadata": {
        "id": "1FERGfKGi4Mc"
      },
      "source": [
        "ex = non_toxic[['uid','smiles','similarity']]\n",
        "ex.to_csv (r'non_toxic.csv', index = False, header=True)"
      ],
      "execution_count": null,
      "outputs": []
    }
  ]
}